{
 "cells": [
  {
   "cell_type": "markdown",
   "metadata": {},
   "source": [
    "# Data Science for Business Users"
   ]
  },
  {
   "cell_type": "markdown",
   "metadata": {},
   "source": [
    "## Natural Language Processing - Part 2 - Fine-Tune Text Classification Model (i.e., Text Categorization)"
   ]
  },
  {
   "cell_type": "markdown",
   "metadata": {},
   "source": [
    "##### &emsp;Author:&emsp;&emsp;Mediumworx Analytics\n",
    "##### &emsp;Date:&emsp;&emsp;&emsp;February 10, 2019\n",
    "##### &emsp;Version:&emsp;&emsp;0.2\n",
    "##### &emsp;Revisions:&emsp;\n",
    "* 0.1. Initial version\n",
    "* 0.2. Refined the fine tuning to include better examples of tuning"
   ]
  },
  {
   "cell_type": "markdown",
   "metadata": {},
   "source": [
    "_This tutorial was created to democratize data science for business users (i.e., minimize usage of advanced mathematics topics) and alleviate personal frustration we have experienced on following tutorials and struggling to apply that same tutorial for our needs. Considering this, our mission is as follows:_\n",
    "* _Provide practical application of data science tasks with minimal usage of advanced mathematical topics_\n",
    "* _Only use a full set of data, which are similar to data we see in business environment and that are publicly available in a tutorial, instead of using simple data or snippets of data used by many tutorials_\n",
    "* _Clearly state the prerequisites at beginning of the tutorial.  We will try to provide additional information on those prerequisites_\n",
    "* _Provide both written tutorial and video tutorial on each topic to ensure all steps are easy to follow and clearly illustrated_"
   ]
  },
  {
   "cell_type": "markdown",
   "metadata": {},
   "source": [
    "### 1. Description"
   ]
  },
  {
   "cell_type": "markdown",
   "metadata": {},
   "source": [
    "This is multi-part series on natural language processing, using one of the most widely used data science tool - Python. Natural Language Processing (NLP) is concerned with the interactions between computers and human (natural) languages, in particular how to program computers to process and analyze large amounts of natural language data.\n",
    "\n",
    "Natural Language Processing Series consists of:\n",
    "* Part 1 - Develop Text Classification Model\n",
    "* __Part 2 - Fine-Tune Text Classification Model__\n",
    "* Part 3 - Deploy Text Classification Model"
   ]
  },
  {
   "cell_type": "markdown",
   "metadata": {},
   "source": [
    "### 2. Prerequisites"
   ]
  },
  {
   "cell_type": "markdown",
   "metadata": {},
   "source": [
    "Following are prerequisite knowledge for this tutorial:\n",
    "    - [x] Completed Part 1 - Develop Text Classification Model\n",
    "    - [x] Basic knowledge Python (You really do not need to be expert in python to use python for data science tasks. Many data scientists supplement their basic knowledge of python with google :-) to complete their tasks. We will provide a tutorial soon...\n",
    "    - [x] Basic knowledge installing Python packages (Good news is that Anaconda simplifies this for you somewhat, but they only have limited selection of packages you may need - e.g., pmdarima, which is used in this tutorial cannot be installed using this method). We will provide a tutorial soon...\n",
    "    - [x] Basic knowledge Jupyter Notebook/Lab (Good news is that Jupyter Notebook/Lab is easy to use and learn). We will provide a tutorial soon...\n",
    "    - [x] Basic knowledge Pandas (Pandas is data analysis tools for the Python programming language. This is one of the tool where more you know will make your job easier and there is always google :-). We will provide a tutorial soon...\n",
    "    - [x] Basic knowledge statistical data visualization tool, such as matplotlib, seaborn, bokeh, or plotly (These are data visualization tool for the Python programming language. These are a set of the tool where more you know will make your job easier and there is always google :-). We will provide a tutorial soon..."
   ]
  },
  {
   "cell_type": "markdown",
   "metadata": {},
   "source": [
    "### 3. Steps"
   ]
  },
  {
   "cell_type": "markdown",
   "metadata": {},
   "source": [
    "Please follow the step by step instructions, which is divided into 5 major steps as shown below:\n",
    "\n",
    "\n",
    "* Import Python Packages\n",
    "* Declare confusion matrix function\n",
    "* Import Data\n",
    "* Iterate Model: Iterate through different combination of fastText training options - i.e., grid search\n",
    "    - Develop Iteration\n",
    "    - Test Iteration \n",
    "* Validate Final Model"
   ]
  },
  {
   "cell_type": "markdown",
   "metadata": {},
   "source": [
    "#### 3.1. Import Python Packages"
   ]
  },
  {
   "cell_type": "code",
   "execution_count": 8,
   "metadata": {},
   "outputs": [],
   "source": [
    "import pandas as pd\n",
    "import numpy as np\n",
    "import platform\n",
    "from sklearn.metrics import confusion_matrix"
   ]
  },
  {
   "cell_type": "code",
   "execution_count": 9,
   "metadata": {},
   "outputs": [
    {
     "name": "stdout",
     "output_type": "stream",
     "text": [
      "python:  3.7.1\n",
      "pandas:  0.23.4\n",
      "NumPy:  1.15.4\n",
      "platform:  1.0.8\n"
     ]
    }
   ],
   "source": [
    "print('python: ', platform.python_version())\n",
    "print('pandas: ', pd.__version__)\n",
    "print('NumPy: ', np.__version__)\n",
    "print('platform: ', platform.__version__)"
   ]
  },
  {
   "cell_type": "markdown",
   "metadata": {},
   "source": [
    "Very short explanation of python packages:\n",
    "* pandas: data analysis tool\n",
    "* numpy: scientific computing tool"
   ]
  },
  {
   "cell_type": "markdown",
   "metadata": {},
   "source": [
    "#### 3.2. Declare Confusion Matrix function"
   ]
  },
  {
   "cell_type": "markdown",
   "metadata": {},
   "source": [
    "We will need to use this function to create a pretty confusion matrix."
   ]
  },
  {
   "cell_type": "code",
   "execution_count": 10,
   "metadata": {},
   "outputs": [],
   "source": [
    "import numpy as np\n",
    "\n",
    "def plot_confusion_matrix(cm,\n",
    "                          target_names,\n",
    "                          title='Confusion matrix',\n",
    "                          cmap=None,\n",
    "                          normalize=True):\n",
    "    \"\"\"\n",
    "    given a sklearn confusion matrix (cm), make a nice plot\n",
    "\n",
    "    Arguments\n",
    "    ---------\n",
    "    cm:           confusion matrix from sklearn.metrics.confusion_matrix\n",
    "    target_names: given classification classes such as [0, 1, 2]\n",
    "                  the class names, for example: ['high', 'medium', 'low']\n",
    "    title:        the text to display at the top of the matrix\n",
    "    cmap:         the gradient of the values displayed from matplotlib.pyplot.cm\n",
    "                  see http://matplotlib.org/examples/color/colormaps_reference.html\n",
    "                  plt.get_cmap('jet') or plt.cm.Blues\n",
    "    normalize:    If False, plot the raw numbers\n",
    "                  If True, plot the proportions\n",
    "    Usage\n",
    "    -----\n",
    "    plot_confusion_matrix(cm           = cm,                  # confusion matrix created by\n",
    "                                                              # sklearn.metrics.confusion_matrix\n",
    "                          normalize    = True,                # show proportions\n",
    "                          target_names = y_labels_vals,       # list of names of the classes\n",
    "                          title        = best_estimator_name) # title of graph\n",
    "\n",
    "    Citiation\n",
    "    ---------\n",
    "    http://scikit-learn.org/stable/auto_examples/model_selection/plot_confusion_matrix.html\n",
    "\n",
    "    \"\"\"\n",
    "    import matplotlib.pyplot as plt\n",
    "    import numpy as np\n",
    "    import itertools\n",
    "\n",
    "    accuracy = np.trace(cm) / float(np.sum(cm))\n",
    "    misclass = 1 - accuracy\n",
    "\n",
    "    if cmap is None:\n",
    "        cmap = plt.get_cmap('Blues')\n",
    "\n",
    "    plt.figure(figsize=(8, 6))\n",
    "    plt.imshow(cm, interpolation='nearest', cmap=cmap)\n",
    "    plt.title(title)\n",
    "    plt.colorbar()\n",
    "\n",
    "    if target_names is not None:\n",
    "        tick_marks = np.arange(len(target_names))\n",
    "        plt.xticks(tick_marks, target_names, rotation=45)\n",
    "        plt.yticks(tick_marks, target_names)\n",
    "\n",
    "    if normalize:\n",
    "        cm = cm.astype('float') / cm.sum(axis=1)[:, np.newaxis]\n",
    "\n",
    "    thresh = cm.max() / 1.5 if normalize else cm.max() / 2\n",
    "    for i, j in itertools.product(range(cm.shape[0]), range(cm.shape[1])):\n",
    "        if normalize:\n",
    "            plt.text(j, i, \"{:0.4f}\".format(cm[i, j]),\n",
    "                     horizontalalignment=\"center\",\n",
    "                     color=\"white\" if cm[i, j] > thresh else \"black\")\n",
    "        else:\n",
    "            plt.text(j, i, \"{:,}\".format(cm[i, j]),\n",
    "                     horizontalalignment=\"center\",\n",
    "                     color=\"white\" if cm[i, j] > thresh else \"black\")\n",
    "\n",
    "    plt.tight_layout()\n",
    "    plt.ylabel('True label')\n",
    "    plt.xlabel('Predicted label\\naccuracy={:0.4f}; misclass={:0.4f}'.format(accuracy, misclass))\n",
    "    plt.show()"
   ]
  },
  {
   "cell_type": "markdown",
   "metadata": {},
   "source": [
    "#### 3.3. Import Data"
   ]
  },
  {
   "cell_type": "markdown",
   "metadata": {},
   "source": [
    "We will need to import test data so we can create a confusion matrix."
   ]
  },
  {
   "cell_type": "code",
   "execution_count": 11,
   "metadata": {},
   "outputs": [],
   "source": [
    "test_review_data = pd.read_pickle('data/yelp_review_data_prepped_test.pkl')"
   ]
  },
  {
   "cell_type": "markdown",
   "metadata": {},
   "source": [
    "#### 3.4. Iterate Model"
   ]
  },
  {
   "cell_type": "markdown",
   "metadata": {},
   "source": [
    "The following are optional parameters to improve our text classification model:\n",
    "\n",
    "    -lr                 learning rate [Default is 0.05 where the range is 0.01 through 1.0, usually 0.05, 0.1, 0.25, 0.5, 0.75 or 1.0]\n",
    "    -lrUpdateRate       change the rate of updates for the learning rate [Default is 100]\n",
    "    -dim                size of word vectors [Default is 100]\n",
    "    -ws                 size of the context window [Default is 5]\n",
    "    -epoch              number of epochs [Default is 5 where the range is 1 through 50]\n",
    "    -neg                number of negatives sampled [Default is 5]\n",
    "    -loss               loss function {ns, hs, softmax} [Default is ns]\n",
    "    -thread             number of threads [Default is 12]\n",
    "    -pretrainedVectors  pretrained word vectors for supervised learning []\n",
    "    -saveOutput         whether output params should be saved [0]"
   ]
  },
  {
   "cell_type": "markdown",
   "metadata": {},
   "source": [
    "Follow these steps to develop/train model:\n",
    "1. In terminal window, navigate to where your fastText is installed.  For myself, it is /home/sungkim/fastText\n",
    "2. fastText command we will be using is 'fasttext supervised -input training_file -output model_name'\n",
    "3. Our training file name is 'train_review_data.txt'\n",
    "4. Our model name is 'yelp_model_v1'.  We like to version our models so we can come back to it.\n",
    "5. With that in mind, enter following command in your terminal.  My data (i.e., text files) are located in d:\\Mediumworx\\analytics\\Text_Classification\\data directory, hence the long path."
   ]
  },
  {
   "cell_type": "markdown",
   "metadata": {},
   "source": [
    "##### 3.4.1. Model Baseline"
   ]
  },
  {
   "cell_type": "markdown",
   "metadata": {},
   "source": [
    "The baseline (default option) produced following precision and recall:\n",
    "* P@1     0.687 \n",
    "* R@1     0.687"
   ]
  },
  {
   "cell_type": "markdown",
   "metadata": {},
   "source": [
    "##### 3.4.2. Model Iterations"
   ]
  },
  {
   "cell_type": "markdown",
   "metadata": {},
   "source": [
    "We will try to increase accurcy (i.e., precision or P@1 of the model), but it will be very difficult since the default settings provides a pretty good model already.  In the past, the following changes provided bit of lift whereas other changes  barely moved the needle in accuracy:\n",
    "\n",
    "* Increase learning rate (faster learning speed usually improves the accuracy of the model, but too fast of learning rate results in oscillating model with worse accuracy) as well as epoch (larger epoch usually improves the model, but not always, at the cost of increase in training time)\n",
    "* Change from unigram (-wordNgrams 1) to bigram (-wordNgrams 2)"
   ]
  },
  {
   "cell_type": "markdown",
   "metadata": {},
   "source": [
    "Here are some explanations of learning rate, epoch and n-grams:\n",
    "* Learning Rate (-lr): Changing learning rate implies changing the learning speed of our model is to increase (or decrease) the learning rate of the algorithm. This corresponds to how much the model changes after processing each example. A learning rate of 0 would means that the model does not change at all, and thus, does not learn anything. Good values of the learning rate are in the range 0.1 - 1.0.\n",
    "* Epoch: Number of times fastText completes pass through training dataset. Usually higher number results in better model at the cost of increase in training time. \n",
    "* n-grams (-wordNgrams): Using this sentence as an example - \"This is a sentence\", here is illustration of 1, 2, or 3:\n",
    "    - 1 (unigram): \"This\" \"is\" \"a\" \"senetence\"\n",
    "    - 2 (bigram): \"This is\" \"is a\" \"a sentence\"\n",
    "    - 3 (trigram): \"This is a\" \"is a sentence\""
   ]
  },
  {
   "cell_type": "markdown",
   "metadata": {},
   "source": [
    "3.4.2.1. Model Iteration Matrix"
   ]
  },
  {
   "cell_type": "markdown",
   "metadata": {},
   "source": [
    "We have tried several iterations of grid search where we found that following parameters provided highest precision or accurate rate:\n",
    "* Learning Rate: 0.25\n",
    "* Epoch: 2\n",
    "* wordNgrams: 2\n",
    "\n",
    "resulted in\n",
    "* P(recision)@1: 0.71\n",
    "* R(ecall)@1: 0.71"
   ]
  },
  {
   "cell_type": "markdown",
   "metadata": {},
   "source": [
    "|  Iteration | Learning Rate (-lr) |Epoch (-epoch)| wordNgrams (-wordNgrams) | Precision@1 | Recall@1 | Notes |\n",
    "|------------|-------|-------|-------|---------|---------|---------------------|\n",
    "|  2  |  0.1  |   5   |   1   |  0.687  |  0.687  | Increase learning rate. No improvement      |\n",
    "|  3  |  0.25 |   5   |   1   |  0.687  |  0.687  | Increase learning rate. No improvement      |\n",
    "|  4  |  0.5  |   5   |   1   |  0.687  |  0.687  | Increase learning rate. No improvement      |\n",
    "|  5  |  0.5  |   5   |   2   |  0.687  |  0.687  | Change to bigram. No improvement      |\n",
    "|  6  |  0.25 |   5   |   2   |  0.69   |  0.69   | Decrease learning rate. Improvement of 0.03 |\n",
    "|  7  |  0.25 |   10  |   2   |  0.664  |  0.664  | Increase epoch. Going backward      |\n",
    "|  8  |  0.25 |   5   |   3   |  0.666  |  0.666  | Change to trigram. Going backward      |\n",
    "|  9  |  0.25 |   6   |   2   |  0.683  |  0.683  | Increase epoch. Going backward      |\n",
    "|  10  |  0.25 |   4   |   2   |  0.698  |  0.698  | Decrease epoch. Improvement of 0.08 |\n",
    "|  11  |  0.25 |   3   |   2   |  0.706  |  0.706  | Decrease epoch. Improvement of 0.08 |\n",
    "|  __12__  |  __0.25__ |   __2__   |   __2__   |  __0.71__   |  __0.71__   | __Decrease epoch. Improvement of 0.04__ |\n",
    "|  13  |  0.25 |   1   |   2   |  0.707  |  0.707  | Decrease epoch. Going backward      |\n",
    "|  14  |  0.25 |   2   |   3   |  0.705  |  0.705  | Change to trigram. Going backward      |\n",
    "|  15  |  0.25 |   2   |   1   |  0.687  |  0.687  | Change to unigram. Going backward      |"
   ]
  },
  {
   "cell_type": "markdown",
   "metadata": {},
   "source": [
    "3.4.2.2. Iteration 2"
   ]
  },
  {
   "cell_type": "raw",
   "metadata": {},
   "source": [
    "./fasttext supervised -input /mnt/d/Mediumworx/analytics/Text_Classification/data/train_review_data.txt -output /mnt/d/Mediumworx/analytics/Text_Classification//model/yelp_model_v2 -lr 0.1"
   ]
  },
  {
   "cell_type": "raw",
   "metadata": {},
   "source": [
    "./fasttext test /mnt/d/Mediumworx/analytics/Text_Classification//model/yelp_model_v2.bin /mnt/d/Mediumworx/analytics//Text_Classification//data/test_review_data.txt 1"
   ]
  },
  {
   "cell_type": "markdown",
   "metadata": {},
   "source": [
    "This iteration produces following precision and recall:\n",
    "* P@1     0.687\n",
    "* R@1     0.687"
   ]
  },
  {
   "cell_type": "markdown",
   "metadata": {},
   "source": [
    "3.4.2.3. Iteration 3"
   ]
  },
  {
   "cell_type": "raw",
   "metadata": {},
   "source": [
    "./fasttext supervised -input /mnt/d/Mediumworx/analytics/Text_Classification/data/train_review_data.txt -output /mnt/d/Mediumworx/analytics/Text_Classification//model/yelp_model_v3 -lr 0.25"
   ]
  },
  {
   "cell_type": "raw",
   "metadata": {},
   "source": [
    "./fasttext test /mnt/d/Mediumworx/analytics/Text_Classification//model/yelp_model_v3.bin /mnt/d/Mediumworx/analytics//Text_Classification//data/test_review_data.txt 1"
   ]
  },
  {
   "cell_type": "markdown",
   "metadata": {},
   "source": [
    "This iteration produces following precision and recall:\n",
    "* P@1     0.687 \n",
    "* R@1     0.687"
   ]
  },
  {
   "cell_type": "markdown",
   "metadata": {},
   "source": [
    "3.4.2.4. Iteration 4"
   ]
  },
  {
   "cell_type": "raw",
   "metadata": {},
   "source": [
    "./fasttext supervised -input /mnt/d/Mediumworx/analytics/Text_Classification/data/train_review_data.txt -output /mnt/d/Mediumworx/analytics/Text_Classification//model/yelp_model_v4 -lr 0.5"
   ]
  },
  {
   "cell_type": "raw",
   "metadata": {},
   "source": [
    "./fasttext test /mnt/d/Mediumworx/analytics/Text_Classification//model/yelp_model_v4.bin /mnt/d/Mediumworx/analytics//Text_Classification//data/test_review_data.txt 1"
   ]
  },
  {
   "cell_type": "markdown",
   "metadata": {},
   "source": [
    "This iteration produces following precision and recall:\n",
    "* P@1     0.687 \n",
    "* R@1     0.687"
   ]
  },
  {
   "cell_type": "markdown",
   "metadata": {},
   "source": [
    "3.4.2.5. Iteration 5"
   ]
  },
  {
   "cell_type": "raw",
   "metadata": {},
   "source": [
    "./fasttext supervised -input /mnt/d/Mediumworx/analytics/Text_Classification/data/train_review_data.txt -output /mnt/d/Mediumworx/analytics/Text_Classification//model/yelp_model_v5 -lr 0.5 -wordNgrams 2"
   ]
  },
  {
   "cell_type": "raw",
   "metadata": {},
   "source": [
    "./fasttext test /mnt/d/Mediumworx/analytics/Text_Classification//model/yelp_model_v5.bin /mnt/d/Mediumworx/analytics//Text_Classification//data/test_review_data.txt 1"
   ]
  },
  {
   "cell_type": "markdown",
   "metadata": {},
   "source": [
    "This iteration produces following precision and recall:\n",
    "* P@1     0.687 \n",
    "* R@1     0.687"
   ]
  },
  {
   "cell_type": "markdown",
   "metadata": {},
   "source": [
    "3.4.2.6. Iteration 6"
   ]
  },
  {
   "cell_type": "raw",
   "metadata": {},
   "source": [
    "./fasttext supervised -input /mnt/d/Mediumworx/analytics/Text_Classification/data/train_review_data.txt -output /mnt/d/Mediumworx/analytics/Text_Classification//model/yelp_model_v6 -lr 0.25 -wordNgrams 2"
   ]
  },
  {
   "cell_type": "raw",
   "metadata": {},
   "source": [
    "./fasttext test /mnt/d/Mediumworx/analytics/Text_Classification//model/yelp_model_v6.bin /mnt/d/Mediumworx/analytics//Text_Classification//data/test_review_data.txt 1"
   ]
  },
  {
   "cell_type": "markdown",
   "metadata": {},
   "source": [
    "This iteration produces following precision and recall:\n",
    "* P@1     0.69\n",
    "* R@1     0.69"
   ]
  },
  {
   "cell_type": "markdown",
   "metadata": {},
   "source": [
    "3.4.2.7. Iteration 7"
   ]
  },
  {
   "cell_type": "raw",
   "metadata": {},
   "source": [
    "./fasttext supervised -input /mnt/d/Mediumworx/analytics/Text_Classification/data/train_review_data.txt -output /mnt/d/Mediumworx/analytics/Text_Classification//model/yelp_model_v7 -lr 0.25 -epoch 10 -wordNgrams 2"
   ]
  },
  {
   "cell_type": "raw",
   "metadata": {},
   "source": [
    "./fasttext test /mnt/d/Mediumworx/analytics/Text_Classification/model/yelp_model_v7.bin /mnt/d/Mediumworx/analytics//Text_Classification//data/test_review_data.txt 1"
   ]
  },
  {
   "cell_type": "markdown",
   "metadata": {},
   "source": [
    "This iteration produces following precision and recall:\n",
    "* P@1     0.664\n",
    "* R@1     0.664"
   ]
  },
  {
   "cell_type": "markdown",
   "metadata": {},
   "source": [
    "3.4.2.8. Iteration 8"
   ]
  },
  {
   "cell_type": "raw",
   "metadata": {},
   "source": [
    "./fasttext supervised -input /mnt/d/Mediumworx/analytics/Text_Classification/data/train_review_data.txt -output /mnt/d/Mediumworx/analytics/Text_Classification//model/yelp_model_v8 -lr 0.25 -epoch 5 -wordNgrams 3"
   ]
  },
  {
   "cell_type": "raw",
   "metadata": {},
   "source": [
    "./fasttext test /mnt/d/Mediumworx/analytics/Text_Classification//model/yelp_model_v8.bin /mnt/d/Mediumworx/analytics//Text_Classification//data/test_review_data.txt 1"
   ]
  },
  {
   "cell_type": "markdown",
   "metadata": {},
   "source": [
    "This iteration produces following precision and recall:\n",
    "* P@1     0.666\n",
    "* R@1     0.666"
   ]
  },
  {
   "cell_type": "markdown",
   "metadata": {},
   "source": [
    "3.4.2.9. Iteration 9"
   ]
  },
  {
   "cell_type": "raw",
   "metadata": {},
   "source": [
    "./fasttext supervised -input /mnt/d/Mediumworx/analytics/Text_Classification/data/train_review_data.txt -output /mnt/d/Mediumworx/analytics/Text_Classification//model/yelp_model_v9 -lr 0.25 -epoch 5 -wordNgrams 2"
   ]
  },
  {
   "cell_type": "raw",
   "metadata": {},
   "source": [
    "./fasttext test /mnt/d/Mediumworx/analytics/Text_Classification//model/yelp_model_v9.bin /mnt/d/Mediumworx/analytics//Text_Classification//data/test_review_data.txt 1"
   ]
  },
  {
   "cell_type": "markdown",
   "metadata": {},
   "source": [
    "This iteration produces following precision and recall:\n",
    "* P@1     0.683\n",
    "* R@1     0.683"
   ]
  },
  {
   "cell_type": "markdown",
   "metadata": {},
   "source": [
    "3.4.2.10. Iteration 10"
   ]
  },
  {
   "cell_type": "raw",
   "metadata": {},
   "source": [
    "./fasttext supervised -input /mnt/d/Mediumworx/analytics/Text_Classification/data/train_review_data.txt -output /mnt/d/Mediumworx/analytics/Text_Classification//model/yelp_model_v10 -lr 0.25 -epoch 4 -wordNgrams 2"
   ]
  },
  {
   "cell_type": "raw",
   "metadata": {},
   "source": [
    "./fasttext test /mnt/d/Mediumworx/analytics/Text_Classification//model/yelp_model_v10.bin /mnt/d/Mediumworx/analytics//Text_Classification//data/test_review_data.txt 1"
   ]
  },
  {
   "cell_type": "markdown",
   "metadata": {},
   "source": [
    "This iteration produces following precision and recall:\n",
    "* P@1     0.698\n",
    "* R@1     0.698"
   ]
  },
  {
   "cell_type": "markdown",
   "metadata": {},
   "source": [
    "3.4.2.11. Iteration 11"
   ]
  },
  {
   "cell_type": "raw",
   "metadata": {},
   "source": [
    "./fasttext supervised -input /mnt/d/Mediumworx/analytics/Text_Classification/data/train_review_data.txt -output /mnt/d/Mediumworx/analytics/Text_Classification//model/yelp_model_v11 -lr 0.25 -epoch 3 -wordNgrams 2"
   ]
  },
  {
   "cell_type": "raw",
   "metadata": {},
   "source": [
    "./fasttext test /mnt/d/Mediumworx/analytics/Text_Classification//model/yelp_model_v11.bin /mnt/d/Mediumworx/analytics//Text_Classification//data/test_review_data.txt 1"
   ]
  },
  {
   "cell_type": "markdown",
   "metadata": {},
   "source": [
    "This iteration produces following precision and recall:\n",
    "* P@1     0.706\n",
    "* R@1     0.706"
   ]
  },
  {
   "cell_type": "markdown",
   "metadata": {},
   "source": [
    "3.4.2.12. Iteration 12"
   ]
  },
  {
   "cell_type": "raw",
   "metadata": {},
   "source": [
    "./fasttext supervised -input /mnt/d/Mediumworx/analytics/Text_Classification/data/train_review_data.txt -output /mnt/d/Mediumworx/analytics/Text_Classification//model/yelp_model_v12 -lr 0.25 -epoch 2 -wordNgrams 2"
   ]
  },
  {
   "cell_type": "raw",
   "metadata": {},
   "source": [
    "./fasttext test /mnt/d/Mediumworx/analytics/Text_Classification//model/yelp_model_v12.bin /mnt/d/Mediumworx/analytics//Text_Classification//data/test_review_data.txt 1"
   ]
  },
  {
   "cell_type": "markdown",
   "metadata": {},
   "source": [
    "This iteration produces following precision and recall:\n",
    "* P@1     0.71\n",
    "* R@1     0.71"
   ]
  },
  {
   "cell_type": "markdown",
   "metadata": {},
   "source": [
    "3.4.2.13. Iteration 13"
   ]
  },
  {
   "cell_type": "raw",
   "metadata": {},
   "source": [
    "./fasttext supervised -input /mnt/d/Mediumworx/analytics/Text_Classification/data/train_review_data.txt -output /mnt/d/Mediumworx/analytics/Text_Classification//model/yelp_model_v13 -lr 0.25 -epoch 1 -wordNgrams 2"
   ]
  },
  {
   "cell_type": "raw",
   "metadata": {},
   "source": [
    "./fasttext test /mnt/d/Mediumworx/analytics/Text_Classification//model/yelp_model_v13.bin /mnt/d/Mediumworx/analytics//Text_Classification//data/test_review_data.txt 1"
   ]
  },
  {
   "cell_type": "markdown",
   "metadata": {},
   "source": [
    "This iteration produces following precision and recall:\n",
    "* P@1     0.707\n",
    "* R@1     0.707"
   ]
  },
  {
   "cell_type": "markdown",
   "metadata": {},
   "source": [
    "3.4.2.14. Iteration 14"
   ]
  },
  {
   "cell_type": "raw",
   "metadata": {},
   "source": [
    "./fasttext supervised -input /mnt/d/Mediumworx/analytics/Text_Classification/data/train_review_data.txt -output /mnt/d/Mediumworx/analytics/Text_Classification//model/yelp_model_v14 -lr 0.25 -epoch 2 -wordNgrams 3"
   ]
  },
  {
   "cell_type": "raw",
   "metadata": {},
   "source": [
    "./fasttext test /mnt/d/Mediumworx/analytics/Text_Classification//model/yelp_model_v14.bin /mnt/d/Mediumworx/analytics//Text_Classification//data/test_review_data.txt 1"
   ]
  },
  {
   "cell_type": "markdown",
   "metadata": {},
   "source": [
    "This iteration produces following precision and recall:\n",
    "* P@1     0.705\n",
    "* R@1     0.705"
   ]
  },
  {
   "cell_type": "markdown",
   "metadata": {},
   "source": [
    "3.4.2.15. Iteration 15"
   ]
  },
  {
   "cell_type": "raw",
   "metadata": {},
   "source": [
    "./fasttext supervised -input /mnt/d/Mediumworx/analytics/Text_Classification/data/train_review_data.txt -output /mnt/d/Mediumworx/analytics/Text_Classification//model/yelp_model_v15 -lr 0.25 -epoch 2 -wordNgrams 1"
   ]
  },
  {
   "cell_type": "raw",
   "metadata": {},
   "source": [
    "./fasttext test /mnt/d/Mediumworx/analytics/Text_Classification//model/yelp_model_v15.bin /mnt/d/Mediumworx/analytics//Text_Classification//data/test_review_data.txt 1"
   ]
  },
  {
   "cell_type": "markdown",
   "metadata": {},
   "source": [
    "This iteration produces following precision and recall:\n",
    "* P@1     0.687\n",
    "* R@1     0.687"
   ]
  },
  {
   "cell_type": "markdown",
   "metadata": {},
   "source": [
    "### 4. Validate Final Model"
   ]
  },
  {
   "cell_type": "markdown",
   "metadata": {},
   "source": [
    "#### 4.1. Baseline Model"
   ]
  },
  {
   "cell_type": "code",
   "execution_count": 3,
   "metadata": {},
   "outputs": [],
   "source": [
    "test_predict_data_v1 = pd.read_csv('data/test_predict_data_v1.txt', delimiter=r\"\\s+\", header=None)\n",
    "test_predict_data_v1.columns = ['predict', 'predict-prob']"
   ]
  },
  {
   "cell_type": "code",
   "execution_count": 4,
   "metadata": {},
   "outputs": [
    {
     "name": "stdout",
     "output_type": "stream",
     "text": [
      "<class 'pandas.core.frame.DataFrame'>\n",
      "RangeIndex: 1337180 entries, 0 to 1337179\n",
      "Data columns (total 2 columns):\n",
      "predict         1337180 non-null object\n",
      "predict-prob    1337180 non-null float64\n",
      "dtypes: float64(1), object(1)\n",
      "memory usage: 20.4+ MB\n"
     ]
    }
   ],
   "source": [
    "test_predict_data_v1.info()"
   ]
  },
  {
   "cell_type": "code",
   "execution_count": 5,
   "metadata": {},
   "outputs": [
    {
     "data": {
      "text/html": [
       "<div>\n",
       "<style scoped>\n",
       "    .dataframe tbody tr th:only-of-type {\n",
       "        vertical-align: middle;\n",
       "    }\n",
       "\n",
       "    .dataframe tbody tr th {\n",
       "        vertical-align: top;\n",
       "    }\n",
       "\n",
       "    .dataframe thead th {\n",
       "        text-align: right;\n",
       "    }\n",
       "</style>\n",
       "<table border=\"1\" class=\"dataframe\">\n",
       "  <thead>\n",
       "    <tr style=\"text-align: right;\">\n",
       "      <th></th>\n",
       "      <th>predict</th>\n",
       "      <th>predict-prob</th>\n",
       "    </tr>\n",
       "  </thead>\n",
       "  <tbody>\n",
       "    <tr>\n",
       "      <th>0</th>\n",
       "      <td>__label__1</td>\n",
       "      <td>0.749564</td>\n",
       "    </tr>\n",
       "    <tr>\n",
       "      <th>1</th>\n",
       "      <td>__label__5</td>\n",
       "      <td>0.963642</td>\n",
       "    </tr>\n",
       "    <tr>\n",
       "      <th>2</th>\n",
       "      <td>__label__5</td>\n",
       "      <td>0.885339</td>\n",
       "    </tr>\n",
       "    <tr>\n",
       "      <th>3</th>\n",
       "      <td>__label__4</td>\n",
       "      <td>0.630630</td>\n",
       "    </tr>\n",
       "    <tr>\n",
       "      <th>4</th>\n",
       "      <td>__label__5</td>\n",
       "      <td>0.969490</td>\n",
       "    </tr>\n",
       "  </tbody>\n",
       "</table>\n",
       "</div>"
      ],
      "text/plain": [
       "      predict  predict-prob\n",
       "0  __label__1      0.749564\n",
       "1  __label__5      0.963642\n",
       "2  __label__5      0.885339\n",
       "3  __label__4      0.630630\n",
       "4  __label__5      0.969490"
      ]
     },
     "execution_count": 5,
     "metadata": {},
     "output_type": "execute_result"
    }
   ],
   "source": [
    "test_predict_data_v1.head()"
   ]
  },
  {
   "cell_type": "code",
   "execution_count": 6,
   "metadata": {},
   "outputs": [],
   "source": [
    "from sklearn.metrics import confusion_matrix"
   ]
  },
  {
   "cell_type": "code",
   "execution_count": 12,
   "metadata": {},
   "outputs": [
    {
     "data": {
      "text/plain": [
       "array([[171069,  17122,   5211,   2152,   5376],\n",
       "       [ 36410,  35404,  25042,   6555,   4733],\n",
       "       [ 11244,  17316,  60073,  46131,  13350],\n",
       "       [  4064,   3159,  25568, 146764, 114596],\n",
       "       [  5104,   1231,   5051,  68715, 505740]])"
      ]
     },
     "execution_count": 12,
     "metadata": {},
     "output_type": "execute_result"
    }
   ],
   "source": [
    "cm_v1 = confusion_matrix(test_review_data['stars'], test_predict_data_v1['predict'])\n",
    "cm_v1"
   ]
  },
  {
   "cell_type": "code",
   "execution_count": 15,
   "metadata": {},
   "outputs": [
    {
     "data": {
      "image/png": "[encoded data removed]",
      "text/plain": [
       "<Figure size 576x432 with 2 Axes>"
      ]
     },
     "metadata": {
      "needs_background": "light"
     },
     "output_type": "display_data"
    }
   ],
   "source": [
    "plot_confusion_matrix(cm=cm_v1, normalize=False, target_names = ['Label 1', 'Label 2', 'Label 3', 'Label 4', 'Label 5'], title = \"Confusion Matrix #\")"
   ]
  },
  {
   "cell_type": "code",
   "execution_count": 14,
   "metadata": {},
   "outputs": [
    {
     "data": {
      "image/png": "[encoded data removed]",
      "text/plain": [
       "<Figure size 576x432 with 2 Axes>"
      ]
     },
     "metadata": {
      "needs_background": "light"
     },
     "output_type": "display_data"
    }
   ],
   "source": [
    "plot_confusion_matrix(cm=cm_v1, normalize=True, target_names = ['Label 1', 'Label 2', 'Label 3', 'Label 4', 'Label 5'], title = \"Confusion Matrix %\")"
   ]
  },
  {
   "cell_type": "markdown",
   "metadata": {},
   "source": [
    "#### 4.2. Final Model"
   ]
  },
  {
   "cell_type": "code",
   "execution_count": 16,
   "metadata": {},
   "outputs": [],
   "source": [
    "test_predict_data_v12 = pd.read_csv('data/test_predict_data_v12.txt', delimiter=r\"\\s+\", header=None)\n",
    "test_predict_data_v12.columns = ['predict', 'predict-prob']"
   ]
  },
  {
   "cell_type": "code",
   "execution_count": 17,
   "metadata": {},
   "outputs": [
    {
     "name": "stdout",
     "output_type": "stream",
     "text": [
      "<class 'pandas.core.frame.DataFrame'>\n",
      "RangeIndex: 1337180 entries, 0 to 1337179\n",
      "Data columns (total 2 columns):\n",
      "predict         1337180 non-null object\n",
      "predict-prob    1337180 non-null float64\n",
      "dtypes: float64(1), object(1)\n",
      "memory usage: 20.4+ MB\n"
     ]
    }
   ],
   "source": [
    "test_predict_data_v12.info()"
   ]
  },
  {
   "cell_type": "code",
   "execution_count": 18,
   "metadata": {},
   "outputs": [
    {
     "data": {
      "text/html": [
       "<div>\n",
       "<style scoped>\n",
       "    .dataframe tbody tr th:only-of-type {\n",
       "        vertical-align: middle;\n",
       "    }\n",
       "\n",
       "    .dataframe tbody tr th {\n",
       "        vertical-align: top;\n",
       "    }\n",
       "\n",
       "    .dataframe thead th {\n",
       "        text-align: right;\n",
       "    }\n",
       "</style>\n",
       "<table border=\"1\" class=\"dataframe\">\n",
       "  <thead>\n",
       "    <tr style=\"text-align: right;\">\n",
       "      <th></th>\n",
       "      <th>predict</th>\n",
       "      <th>predict-prob</th>\n",
       "    </tr>\n",
       "  </thead>\n",
       "  <tbody>\n",
       "    <tr>\n",
       "      <th>0</th>\n",
       "      <td>__label__1</td>\n",
       "      <td>0.919207</td>\n",
       "    </tr>\n",
       "    <tr>\n",
       "      <th>1</th>\n",
       "      <td>__label__5</td>\n",
       "      <td>0.976336</td>\n",
       "    </tr>\n",
       "    <tr>\n",
       "      <th>2</th>\n",
       "      <td>__label__5</td>\n",
       "      <td>0.964025</td>\n",
       "    </tr>\n",
       "    <tr>\n",
       "      <th>3</th>\n",
       "      <td>__label__4</td>\n",
       "      <td>0.488907</td>\n",
       "    </tr>\n",
       "    <tr>\n",
       "      <th>4</th>\n",
       "      <td>__label__5</td>\n",
       "      <td>0.991542</td>\n",
       "    </tr>\n",
       "  </tbody>\n",
       "</table>\n",
       "</div>"
      ],
      "text/plain": [
       "      predict  predict-prob\n",
       "0  __label__1      0.919207\n",
       "1  __label__5      0.976336\n",
       "2  __label__5      0.964025\n",
       "3  __label__4      0.488907\n",
       "4  __label__5      0.991542"
      ]
     },
     "execution_count": 18,
     "metadata": {},
     "output_type": "execute_result"
    }
   ],
   "source": [
    "test_predict_data_v12.head()"
   ]
  },
  {
   "cell_type": "code",
   "execution_count": 19,
   "metadata": {},
   "outputs": [],
   "source": [
    "from sklearn.metrics import confusion_matrix"
   ]
  },
  {
   "cell_type": "code",
   "execution_count": 20,
   "metadata": {},
   "outputs": [
    {
     "data": {
      "text/plain": [
       "array([[172637,  18555,   4937,   1595,   3206],\n",
       "       [ 33838,  41848,  25333,   4498,   2627],\n",
       "       [  9059,  18047,  69289,  42519,   9200],\n",
       "       [  2695,   2385,  26008, 157845, 105218],\n",
       "       [  3195,    781,   4248,  69858, 507759]])"
      ]
     },
     "execution_count": 20,
     "metadata": {},
     "output_type": "execute_result"
    }
   ],
   "source": [
    "cm_v12 = confusion_matrix(test_review_data['stars'], test_predict_data_v12['predict'])\n",
    "cm_v12"
   ]
  },
  {
   "cell_type": "code",
   "execution_count": 21,
   "metadata": {},
   "outputs": [
    {
     "data": {
      "image/png": "[encoded data removed]",
      "text/plain": [
       "<Figure size 576x432 with 2 Axes>"
      ]
     },
     "metadata": {
      "needs_background": "light"
     },
     "output_type": "display_data"
    }
   ],
   "source": [
    "plot_confusion_matrix(cm=cm_v12, normalize=False, target_names = ['Label 1', 'Label 2', 'Label 3', 'Label 4', 'Label 5'], title = \"Confusion Matrix #\")"
   ]
  },
  {
   "cell_type": "code",
   "execution_count": 22,
   "metadata": {},
   "outputs": [
    {
     "data": {
      "image/png": "[encoded data removed]",
      "text/plain": [
       "<Figure size 576x432 with 2 Axes>"
      ]
     },
     "metadata": {
      "needs_background": "light"
     },
     "output_type": "display_data"
    }
   ],
   "source": [
    "plot_confusion_matrix(cm=cm_v12, normalize=True, target_names = ['Label 1', 'Label 2', 'Label 3', 'Label 4', 'Label 5'], title = \"Confusion Matrix %\")"
   ]
  },
  {
   "cell_type": "markdown",
   "metadata": {},
   "source": [
    "We have improved the model from baseline as follows:\n",
    "* Label 1, increased from 0.8514 to 0.8592\n",
    "* Label 2, increased from 0.3274 to 0.3870\n",
    "* Label 3, increased from 0.4056 to 0.4678\n",
    "* Label 4, increased from 0.4989 to 0.5366\n",
    "* Label 5, increased from 0.8633 to 0.8667"
   ]
  },
  {
   "cell_type": "markdown",
   "metadata": {},
   "source": [
    "### I hope you have enjoyed this tutorial. If you have any questions or comments, please provide them via Issues feature on GitHub"
   ]
  }
 ],
 "metadata": {
  "kernelspec": {
   "display_name": "Python 3",
   "language": "python",
   "name": "python3"
  },
  "language_info": {
   "codemirror_mode": {
    "name": "ipython",
    "version": 3
   },
   "file_extension": ".py",
   "mimetype": "text/x-python",
   "name": "python",
   "nbconvert_exporter": "python",
   "pygments_lexer": "ipython3",
   "version": "3.7.1"
  }
 },
 "nbformat": 4,
 "nbformat_minor": 2
}
