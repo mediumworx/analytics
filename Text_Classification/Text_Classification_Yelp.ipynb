{
 "cells": [
  {
   "cell_type": "markdown",
   "metadata": {},
   "source": [
    "# Data Science for Business Users"
   ]
  },
  {
   "cell_type": "markdown",
   "metadata": {},
   "source": [
    "## Natural Language Processing - Part 1 - Develop Text Classification Model (i.e., Text Categorization)"
   ]
  },
  {
   "cell_type": "markdown",
   "metadata": {},
   "source": [
    "##### &emsp;Author:&emsp;&emsp;Mediumworx Analytics\n",
    "##### &emsp;Date:&emsp;&emsp;&emsp;February 10, 2019\n",
    "##### &emsp;Version:&emsp;&emsp;0.2\n",
    "##### &emsp;Revisions:&emsp;\n",
    "* 0.1. Initial version\n",
    "* 0.2. Refined spelling and grammar and added steps to validate the split and simplified the confusion matrix"
   ]
  },
  {
   "cell_type": "markdown",
   "metadata": {},
   "source": [
    "_This tutorial was created to democratize data science for business users (i.e., minimize usage of advanced mathematics topics) and alleviate personal frustration we have experienced on following tutorials and struggling to apply that same tutorial for our needs. Considering this, our mission is as follows:_\n",
    "* _Provide practical application of data science tasks with minimal usage of advanced mathematical topics_\n",
    "* _Only use a full set of data, which are similar to data we see in business environment and that are publicly available in a tutorial, instead of using simple data or snippets of data used by many tutorials_\n",
    "* _Clearly state the prerequisites at beginning of the tutorial.  We will try to provide additional information on those prerequisites_\n",
    "* _Provide both written tutorial and video tutorial on each topic to ensure all steps are easy to follow and clearly illustrated_"
   ]
  },
  {
   "cell_type": "markdown",
   "metadata": {},
   "source": [
    "### 1. Description"
   ]
  },
  {
   "cell_type": "markdown",
   "metadata": {},
   "source": [
    "This is multi-part series on natural language processing, using one of the most widely used data science tool - Python. Natural Language Processing (NLP) is concerned with the interactions between computers and human (natural) languages, in particular how to program computers to process and analyze large amounts of natural language data.\n",
    "\n",
    "Natural Language Processing Series consists of:\n",
    "* __Part 1 - Develop Text Classification Model__\n",
    "* Part 2 - Fine-Tune Text Classification Model\n",
    "* Part 3 - Deploy Text Classification Model"
   ]
  },
  {
   "cell_type": "markdown",
   "metadata": {},
   "source": [
    "### 2. Prerequisites"
   ]
  },
  {
   "cell_type": "markdown",
   "metadata": {},
   "source": [
    "Following are prerequisite software for this tutorial:\n",
    "    - [x] Python (Download Anaconda Python from here => https://www.anaconda.com/download/ and install on your computer.)\n",
    "    - [x] Linux/MacOS/Bash for Windows on Windows 10 (I used Ubuntu 18.04 on Windows 10 - refer to this link => https://docs.microsoft.com/en-us/windows/wsl/install-win10)\n",
    "    - [x] fastText (https://fasttext.cc/)\n",
    "    - [x] 7-Zip (https://www.7-zip.org/)\n",
    "    - [x] Fast computer with a lot of memory (I used a machine with 32 GB of RAM)\n",
    "    \n",
    "    For example, to install fastText on Ubuntu 18.04 (on top of Bash for Windows on Windows 10), follow these instructions:\n",
    "    * In (Ubuntu 18.04) terminal window, type 'sudo apt install gcc' and press enter to install gcc (GNU Compiler Collection)\n",
    "    * Type 'sudo apt install g++' and press enter to install g++ (*nix-based C++ compiler)\n",
    "    * Type 'sudo apt install make' and press enter to install make (creates program from source code(s))\n",
    "    * Type 'git clone https://github.com/facebookresearch/fastText.git' and press enter to copy fasttext source codes from github\n",
    "    * Type 'cd fastText' and press enter\n",
    "    * Type 'make' and press enter to install fasttext on your computer \n",
    "    \n",
    "    You should see fastText under your home directory. It shoud look like this under your home directory:\n",
    "        /anaconda\n",
    "        /fastText"
   ]
  },
  {
   "cell_type": "markdown",
   "metadata": {},
   "source": [
    "Following are prerequisite knowledge for this tutorial:\n",
    "    - [x] Basic knowledge Python (You really do not need to be expert in python to use python for data science tasks. Many data scientists supplement their basic knowledge of python with google :-) to complete their tasks. We will provide a tutorial soon...\n",
    "    - [x] Basic knowledge installing Python packages (Good news is that Anaconda simplifies this for you somewhat, but they only have limited selection of packages you may need - e.g., pmdarima, which is used in this tutorial cannot be installed using this method). We will provide a tutorial soon...\n",
    "    - [x] Basic knowledge Jupyter Notebook/Lab (Good news is that Jupyter Notebook/Lab is easy to use and learn). We will provide a tutorial soon...\n",
    "    - [x] Basic knowledge Pandas (Pandas is data analysis tools for the Python programming language. This is one of the tool where more you know will make your job easier and there is always google :-). We will provide a tutorial soon...\n",
    "    - [x] Basic knowledge statistical data visualization tool, such as matplotlib, seaborn, bokeh, or plotly (These are data visualization tool for the Python programming language. These are a set of the tool where more you know will make your job easier and there is always google :-). We will provide a tutorial soon..."
   ]
  },
  {
   "cell_type": "markdown",
   "metadata": {},
   "source": [
    "### 3. Steps"
   ]
  },
  {
   "cell_type": "markdown",
   "metadata": {},
   "source": [
    "Please follow the step by step instructions, which is divided into 10 major steps as shown below:\n",
    "\n",
    "* Get Data\n",
    "* Import Data\n",
    "* Format Data\n",
    "* Analyze Data\n",
    "* Cleanse Data\n",
    "* Prep Data\n",
    "* Develop Model\n",
    "* Test Model\n",
    "* Predict 'Rating Star'\n",
    "* Validate Model"
   ]
  },
  {
   "cell_type": "markdown",
   "metadata": {},
   "source": [
    "#### 3.1. Get Data"
   ]
  },
  {
   "cell_type": "markdown",
   "metadata": {},
   "source": [
    "We will be using Yelp Open Dataset, available at https://www.yelp.com/dataset. The Yelp dataset is a subset of our businesses, reviews, and user data for use in personal, educational, and academic purposes. Available as JSON files, use it to teach students about databases, to learn NLP, or for sample production data while you learn how to make mobile apps. This dataset is downloaded as one big archive file, entitled yelp_dataset.tar. The file contains the following files and can be un-archived/extracted using 7-Zip:\n",
    "\n",
    "* business.json\n",
    "* checkin.json\n",
    "* photo.json\n",
    "* __review.json__\n",
    "* tip.json\n",
    "* user.json\n",
    "* and two PDF files\n"
   ]
  },
  {
   "cell_type": "markdown",
   "metadata": {},
   "source": [
    "Out of all above files, we are interested in just one file - review.json because it has two fields we are most interested in - 'text' and 'stars' (i.e., label). We will be developing supervised learning for text classification model, which basically means that for every set of text, there is expected answer or label (i.e., stars) to develop our model whereas unsupervised learning implies thare no labels for the text. Using Yelp dataset as an example, if someone writes a superlative restaurant review like 'Awesome Food!' then that someone probably provided five star (from one star to five stars where five stars is the best) and if someone writes a restaurant review like 'Dirty Bathroom!' then that someone provided one star. Do not eat at restaurant with dirty bathroom because the kitchen is more likely to be a lot dirtier. \n",
    "\n",
    "The format of review.json is as follows:\n",
    "\n",
    "{\n",
    "    // string, 22 character unique review id\n",
    "    \"review_id\": \"zdSx_SD6obEhz9VrW9uAWA\",\n",
    "\n",
    "    // string, 22 character unique user id, maps to the user in user.json\n",
    "    \"user_id\": \"Ha3iJu77CxlrFm-vQRs_8g\",\n",
    "\n",
    "    // string, 22 character business id, maps to business in business.json\n",
    "    \"business_id\": \"tnhfDv5Il8EaGSXZGiuQGg\",\n",
    "\n",
    "    // integer, star rating\n",
    "    \"stars\": 4,\n",
    "\n",
    "    // string, date formatted YYYY-MM-DD\n",
    "    \"date\": \"2016-03-09\",\n",
    "\n",
    "    // string, the review itself\n",
    "    \"text\": \"Great place to hang out after work: the prices are decent, and the ambience is fun. It's a bit loud, but very lively. The staff is friendly, and the food is good. They have a good selection of drinks.\",\n",
    "\n",
    "    // integer, number of useful votes received\n",
    "    \"useful\": 0,\n",
    "\n",
    "    // integer, number of funny votes received\n",
    "    \"funny\": 0,\n",
    "\n",
    "    // integer, number of cool votes received\n",
    "    \"cool\": 0\n",
    "}"
   ]
  },
  {
   "cell_type": "markdown",
   "metadata": {},
   "source": [
    "#### 3.2. Import Data"
   ]
  },
  {
   "cell_type": "markdown",
   "metadata": {},
   "source": [
    "1. Start terminal window\n",
    "2. Navigate to a directory where review.json file is located\n",
    "3. Type 'jupyter lab' to start Jupyter Lab\n",
    "4. Open your browser and navigate to http://localhost:8888/lab\n",
    "5. Start new notebook by clicking on \"Python 3\"\n",
    "6. Name the notebook as 'Text_Classification.ipnyb'"
   ]
  },
  {
   "cell_type": "markdown",
   "metadata": {},
   "source": [
    "3.2.1. Import Python Packages"
   ]
  },
  {
   "cell_type": "code",
   "execution_count": 1,
   "metadata": {},
   "outputs": [],
   "source": [
    "import pandas as pd\n",
    "import string\n",
    "import os\n",
    "import gc\n",
    "import numpy as np\n",
    "import nltk\n",
    "import platform\n",
    "import seaborn as sns"
   ]
  },
  {
   "cell_type": "code",
   "execution_count": 2,
   "metadata": {},
   "outputs": [
    {
     "name": "stdout",
     "output_type": "stream",
     "text": [
      "python:  3.7.1\n",
      "pandas:  0.23.4\n",
      "NumPy:  1.15.4\n",
      "nltk:  3.4\n",
      "platform:  1.0.8\n",
      "seaborn:  0.9.0\n"
     ]
    }
   ],
   "source": [
    "print('python: ', platform.python_version())\n",
    "print('pandas: ', pd.__version__)\n",
    "print('NumPy: ', np.__version__)\n",
    "print('nltk: ', nltk.__version__)\n",
    "print('platform: ', platform.__version__)\n",
    "print('seaborn: ', sns.__version__)"
   ]
  },
  {
   "cell_type": "markdown",
   "metadata": {},
   "source": [
    "Very short explanation of python packages:\n",
    "* pandas: data analysis tool\n",
    "* numpy: scientific computing tool\n",
    "* nltk: natural language toolkit\n",
    "* seasborn: python charting tool"
   ]
  },
  {
   "cell_type": "markdown",
   "metadata": {},
   "source": [
    "3.2.2. Download stopwords from NLTK"
   ]
  },
  {
   "cell_type": "markdown",
   "metadata": {},
   "source": [
    "Stop words are extremely common words which would appear to be of little value in helping select documents matching a user need are excluded from the vocabulary entirely. NLTK provides a list of stop words so we can remove them from our text.  Do you think we manually maintain the list ourselves?"
   ]
  },
  {
   "cell_type": "code",
   "execution_count": 3,
   "metadata": {},
   "outputs": [
    {
     "name": "stderr",
     "output_type": "stream",
     "text": [
      "[nltk_data] Downloading package stopwords to\n",
      "[nltk_data]     /home/sungkim/nltk_data...\n",
      "[nltk_data]   Package stopwords is already up-to-date!\n"
     ]
    },
    {
     "data": {
      "text/plain": [
       "True"
      ]
     },
     "execution_count": 3,
     "metadata": {},
     "output_type": "execute_result"
    }
   ],
   "source": [
    "from nltk.corpus import stopwords\n",
    "stop = stop = set(stopwords.words('english'))\n",
    "nltk.download('stopwords')"
   ]
  },
  {
   "cell_type": "markdown",
   "metadata": {},
   "source": [
    "3.2.3. Import data from JSON file"
   ]
  },
  {
   "cell_type": "code",
   "execution_count": 4,
   "metadata": {},
   "outputs": [],
   "source": [
    "review_all = pd.read_json('data/review.json', orient='columns', lines = True)"
   ]
  },
  {
   "cell_type": "markdown",
   "metadata": {},
   "source": [
    "3.2.4. Validate data is imported correctly"
   ]
  },
  {
   "cell_type": "code",
   "execution_count": 5,
   "metadata": {},
   "outputs": [
    {
     "name": "stdout",
     "output_type": "stream",
     "text": [
      "<class 'pandas.core.frame.DataFrame'>\n",
      "RangeIndex: 6685900 entries, 0 to 6685899\n",
      "Data columns (total 9 columns):\n",
      "business_id    object\n",
      "cool           int64\n",
      "date           datetime64[ns]\n",
      "funny          int64\n",
      "review_id      object\n",
      "stars          int64\n",
      "text           object\n",
      "useful         int64\n",
      "user_id        object\n",
      "dtypes: datetime64[ns](1), int64(4), object(4)\n",
      "memory usage: 459.1+ MB\n"
     ]
    }
   ],
   "source": [
    "review_all.info()"
   ]
  },
  {
   "cell_type": "code",
   "execution_count": 6,
   "metadata": {},
   "outputs": [
    {
     "data": {
      "text/html": [
       "<div>\n",
       "<style scoped>\n",
       "    .dataframe tbody tr th:only-of-type {\n",
       "        vertical-align: middle;\n",
       "    }\n",
       "\n",
       "    .dataframe tbody tr th {\n",
       "        vertical-align: top;\n",
       "    }\n",
       "\n",
       "    .dataframe thead th {\n",
       "        text-align: right;\n",
       "    }\n",
       "</style>\n",
       "<table border=\"1\" class=\"dataframe\">\n",
       "  <thead>\n",
       "    <tr style=\"text-align: right;\">\n",
       "      <th></th>\n",
       "      <th>business_id</th>\n",
       "      <th>cool</th>\n",
       "      <th>date</th>\n",
       "      <th>funny</th>\n",
       "      <th>review_id</th>\n",
       "      <th>stars</th>\n",
       "      <th>text</th>\n",
       "      <th>useful</th>\n",
       "      <th>user_id</th>\n",
       "    </tr>\n",
       "  </thead>\n",
       "  <tbody>\n",
       "    <tr>\n",
       "      <th>0</th>\n",
       "      <td>ujmEBvifdJM6h6RLv4wQIg</td>\n",
       "      <td>0</td>\n",
       "      <td>2013-05-07 04:34:36</td>\n",
       "      <td>1</td>\n",
       "      <td>Q1sbwvVQXV2734tPgoKj4Q</td>\n",
       "      <td>1</td>\n",
       "      <td>Total bill for this horrible service? Over $8G...</td>\n",
       "      <td>6</td>\n",
       "      <td>hG7b0MtEbXx5QzbzE6C_VA</td>\n",
       "    </tr>\n",
       "    <tr>\n",
       "      <th>1</th>\n",
       "      <td>NZnhc2sEQy3RmzKTZnqtwQ</td>\n",
       "      <td>0</td>\n",
       "      <td>2017-01-14 21:30:33</td>\n",
       "      <td>0</td>\n",
       "      <td>GJXCdrto3ASJOqKeVWPi6Q</td>\n",
       "      <td>5</td>\n",
       "      <td>I *adore* Travis at the Hard Rock's new Kelly ...</td>\n",
       "      <td>0</td>\n",
       "      <td>yXQM5uF2jS6es16SJzNHfg</td>\n",
       "    </tr>\n",
       "    <tr>\n",
       "      <th>2</th>\n",
       "      <td>WTqjgwHlXbSFevF32_DJVw</td>\n",
       "      <td>0</td>\n",
       "      <td>2016-11-09 20:09:03</td>\n",
       "      <td>0</td>\n",
       "      <td>2TzJjDVDEuAW6MR5Vuc1ug</td>\n",
       "      <td>5</td>\n",
       "      <td>I have to say that this office really has it t...</td>\n",
       "      <td>3</td>\n",
       "      <td>n6-Gk65cPZL6Uz8qRm3NYw</td>\n",
       "    </tr>\n",
       "    <tr>\n",
       "      <th>3</th>\n",
       "      <td>ikCg8xy5JIg_NGPx-MSIDA</td>\n",
       "      <td>0</td>\n",
       "      <td>2018-01-09 20:56:38</td>\n",
       "      <td>0</td>\n",
       "      <td>yi0R0Ugj_xUx_Nek0-_Qig</td>\n",
       "      <td>5</td>\n",
       "      <td>Went in for a lunch. Steak sandwich was delici...</td>\n",
       "      <td>0</td>\n",
       "      <td>dacAIZ6fTM6mqwW5uxkskg</td>\n",
       "    </tr>\n",
       "    <tr>\n",
       "      <th>4</th>\n",
       "      <td>b1b1eb3uo-w561D0ZfCEiQ</td>\n",
       "      <td>0</td>\n",
       "      <td>2018-01-30 23:07:38</td>\n",
       "      <td>0</td>\n",
       "      <td>11a8sVPMUFtaC7_ABRkmtw</td>\n",
       "      <td>1</td>\n",
       "      <td>Today was my second out of three sessions I ha...</td>\n",
       "      <td>7</td>\n",
       "      <td>ssoyf2_x0EQMed6fgHeMyQ</td>\n",
       "    </tr>\n",
       "  </tbody>\n",
       "</table>\n",
       "</div>"
      ],
      "text/plain": [
       "              business_id  cool                date  funny  \\\n",
       "0  ujmEBvifdJM6h6RLv4wQIg     0 2013-05-07 04:34:36      1   \n",
       "1  NZnhc2sEQy3RmzKTZnqtwQ     0 2017-01-14 21:30:33      0   \n",
       "2  WTqjgwHlXbSFevF32_DJVw     0 2016-11-09 20:09:03      0   \n",
       "3  ikCg8xy5JIg_NGPx-MSIDA     0 2018-01-09 20:56:38      0   \n",
       "4  b1b1eb3uo-w561D0ZfCEiQ     0 2018-01-30 23:07:38      0   \n",
       "\n",
       "                review_id  stars  \\\n",
       "0  Q1sbwvVQXV2734tPgoKj4Q      1   \n",
       "1  GJXCdrto3ASJOqKeVWPi6Q      5   \n",
       "2  2TzJjDVDEuAW6MR5Vuc1ug      5   \n",
       "3  yi0R0Ugj_xUx_Nek0-_Qig      5   \n",
       "4  11a8sVPMUFtaC7_ABRkmtw      1   \n",
       "\n",
       "                                                text  useful  \\\n",
       "0  Total bill for this horrible service? Over $8G...       6   \n",
       "1  I *adore* Travis at the Hard Rock's new Kelly ...       0   \n",
       "2  I have to say that this office really has it t...       3   \n",
       "3  Went in for a lunch. Steak sandwich was delici...       0   \n",
       "4  Today was my second out of three sessions I ha...       7   \n",
       "\n",
       "                  user_id  \n",
       "0  hG7b0MtEbXx5QzbzE6C_VA  \n",
       "1  yXQM5uF2jS6es16SJzNHfg  \n",
       "2  n6-Gk65cPZL6Uz8qRm3NYw  \n",
       "3  dacAIZ6fTM6mqwW5uxkskg  \n",
       "4  ssoyf2_x0EQMed6fgHeMyQ  "
      ]
     },
     "execution_count": 6,
     "metadata": {},
     "output_type": "execute_result"
    }
   ],
   "source": [
    "review_all.head()"
   ]
  },
  {
   "cell_type": "markdown",
   "metadata": {},
   "source": [
    "#### 3.3. Format Data "
   ]
  },
  {
   "cell_type": "markdown",
   "metadata": {},
   "source": [
    "3.3.1. Filter the data to only two columns/fields. We only want to keep two columns/fields"
   ]
  },
  {
   "cell_type": "code",
   "execution_count": 7,
   "metadata": {},
   "outputs": [],
   "source": [
    "review_data = pd.DataFrame(review_all, columns = ['stars', 'text'])"
   ]
  },
  {
   "cell_type": "markdown",
   "metadata": {},
   "source": [
    "3.3.2. Validate that only two columns/fields are kept"
   ]
  },
  {
   "cell_type": "code",
   "execution_count": 8,
   "metadata": {},
   "outputs": [
    {
     "name": "stdout",
     "output_type": "stream",
     "text": [
      "<class 'pandas.core.frame.DataFrame'>\n",
      "RangeIndex: 6685900 entries, 0 to 6685899\n",
      "Data columns (total 2 columns):\n",
      "stars    int64\n",
      "text     object\n",
      "dtypes: int64(1), object(1)\n",
      "memory usage: 102.0+ MB\n"
     ]
    }
   ],
   "source": [
    "review_data.info()"
   ]
  },
  {
   "cell_type": "code",
   "execution_count": 9,
   "metadata": {},
   "outputs": [
    {
     "data": {
      "text/html": [
       "<div>\n",
       "<style scoped>\n",
       "    .dataframe tbody tr th:only-of-type {\n",
       "        vertical-align: middle;\n",
       "    }\n",
       "\n",
       "    .dataframe tbody tr th {\n",
       "        vertical-align: top;\n",
       "    }\n",
       "\n",
       "    .dataframe thead th {\n",
       "        text-align: right;\n",
       "    }\n",
       "</style>\n",
       "<table border=\"1\" class=\"dataframe\">\n",
       "  <thead>\n",
       "    <tr style=\"text-align: right;\">\n",
       "      <th></th>\n",
       "      <th>stars</th>\n",
       "      <th>text</th>\n",
       "    </tr>\n",
       "  </thead>\n",
       "  <tbody>\n",
       "    <tr>\n",
       "      <th>0</th>\n",
       "      <td>1</td>\n",
       "      <td>Total bill for this horrible service? Over $8G...</td>\n",
       "    </tr>\n",
       "    <tr>\n",
       "      <th>1</th>\n",
       "      <td>5</td>\n",
       "      <td>I *adore* Travis at the Hard Rock's new Kelly ...</td>\n",
       "    </tr>\n",
       "    <tr>\n",
       "      <th>2</th>\n",
       "      <td>5</td>\n",
       "      <td>I have to say that this office really has it t...</td>\n",
       "    </tr>\n",
       "    <tr>\n",
       "      <th>3</th>\n",
       "      <td>5</td>\n",
       "      <td>Went in for a lunch. Steak sandwich was delici...</td>\n",
       "    </tr>\n",
       "    <tr>\n",
       "      <th>4</th>\n",
       "      <td>1</td>\n",
       "      <td>Today was my second out of three sessions I ha...</td>\n",
       "    </tr>\n",
       "  </tbody>\n",
       "</table>\n",
       "</div>"
      ],
      "text/plain": [
       "   stars                                               text\n",
       "0      1  Total bill for this horrible service? Over $8G...\n",
       "1      5  I *adore* Travis at the Hard Rock's new Kelly ...\n",
       "2      5  I have to say that this office really has it t...\n",
       "3      5  Went in for a lunch. Steak sandwich was delici...\n",
       "4      1  Today was my second out of three sessions I ha..."
      ]
     },
     "execution_count": 9,
     "metadata": {},
     "output_type": "execute_result"
    }
   ],
   "source": [
    "review_data.head()"
   ]
  },
  {
   "cell_type": "markdown",
   "metadata": {},
   "source": [
    "We need to do some memory management since these datasets are big and occupies a lot of memory"
   ]
  },
  {
   "cell_type": "code",
   "execution_count": 10,
   "metadata": {},
   "outputs": [
    {
     "name": "stdout",
     "output_type": "stream",
     "text": [
      "review_all:  481384880\n"
     ]
    }
   ],
   "source": [
    "print('review_all: ', review_all.memory_usage().sum())"
   ]
  },
  {
   "cell_type": "code",
   "execution_count": 11,
   "metadata": {},
   "outputs": [
    {
     "name": "stdout",
     "output_type": "stream",
     "text": [
      "review_data:  106974480\n"
     ]
    }
   ],
   "source": [
    "print('review_data: ', review_data.memory_usage().sum())"
   ]
  },
  {
   "cell_type": "code",
   "execution_count": 12,
   "metadata": {},
   "outputs": [
    {
     "name": "stdout",
     "output_type": "stream",
     "text": [
      "Variable      Type         Data/Info\n",
      "------------------------------------\n",
      "review_all    DataFrame                        busin<...>6685900 rows x 9 columns]\n",
      "review_data   DataFrame             stars           <...>6685900 rows x 2 columns]\n"
     ]
    }
   ],
   "source": [
    "%whos DataFrame"
   ]
  },
  {
   "cell_type": "code",
   "execution_count": 13,
   "metadata": {},
   "outputs": [],
   "source": [
    "review_all.to_pickle('data/yelp_review_data.pkl')"
   ]
  },
  {
   "cell_type": "code",
   "execution_count": 14,
   "metadata": {},
   "outputs": [
    {
     "data": {
      "text/plain": [
       "0"
      ]
     },
     "execution_count": 14,
     "metadata": {},
     "output_type": "execute_result"
    }
   ],
   "source": [
    "review_all = pd.DataFrame()\n",
    "del[review_all]\n",
    "gc.collect()"
   ]
  },
  {
   "cell_type": "code",
   "execution_count": 15,
   "metadata": {},
   "outputs": [
    {
     "name": "stdout",
     "output_type": "stream",
     "text": [
      "Variable      Type         Data/Info\n",
      "------------------------------------\n",
      "review_data   DataFrame             stars           <...>6685900 rows x 2 columns]\n"
     ]
    }
   ],
   "source": [
    "%whos DataFrame"
   ]
  },
  {
   "cell_type": "markdown",
   "metadata": {},
   "source": [
    "#### 3.4. Analyze Data"
   ]
  },
  {
   "cell_type": "markdown",
   "metadata": {},
   "source": [
    "Analyze the distribution of stars."
   ]
  },
  {
   "cell_type": "code",
   "execution_count": 16,
   "metadata": {},
   "outputs": [
    {
     "data": {
      "text/plain": [
       "5    43.869666\n",
       "4    21.971388\n",
       "1    14.989141\n",
       "3    11.057300\n",
       "2     8.112505\n",
       "Name: stars, dtype: float64"
      ]
     },
     "execution_count": 16,
     "metadata": {},
     "output_type": "execute_result"
    }
   ],
   "source": [
    "(review_data['stars'].value_counts(normalize=True))*100"
   ]
  },
  {
   "cell_type": "markdown",
   "metadata": {},
   "source": [
    "#### 3.5. Cleanse Data"
   ]
  },
  {
   "cell_type": "markdown",
   "metadata": {},
   "source": [
    "3.5.1. Convert stars field from numeric value to text value"
   ]
  },
  {
   "cell_type": "markdown",
   "metadata": {},
   "source": [
    "We need to convert stars from numeric value to string value so we can convert stars to label."
   ]
  },
  {
   "cell_type": "code",
   "execution_count": 17,
   "metadata": {},
   "outputs": [],
   "source": [
    "review_data['stars'] = review_data['stars'].apply(str)"
   ]
  },
  {
   "cell_type": "markdown",
   "metadata": {},
   "source": [
    "3.5.2. Validate that stars have been converted from numeric value to string value"
   ]
  },
  {
   "cell_type": "code",
   "execution_count": 18,
   "metadata": {},
   "outputs": [
    {
     "name": "stdout",
     "output_type": "stream",
     "text": [
      "<class 'pandas.core.frame.DataFrame'>\n",
      "RangeIndex: 6685900 entries, 0 to 6685899\n",
      "Data columns (total 2 columns):\n",
      "stars    object\n",
      "text     object\n",
      "dtypes: object(2)\n",
      "memory usage: 102.0+ MB\n"
     ]
    }
   ],
   "source": [
    "review_data.info()"
   ]
  },
  {
   "cell_type": "markdown",
   "metadata": {},
   "source": [
    "3.5.3. Convert (review) text field to all lower-case value"
   ]
  },
  {
   "cell_type": "markdown",
   "metadata": {},
   "source": [
    "Upper case letter is different from lower case letter. By converting all text to lower-case text, we simplify our text classification/categorization."
   ]
  },
  {
   "cell_type": "code",
   "execution_count": 19,
   "metadata": {},
   "outputs": [],
   "source": [
    "review_data.text = review_data.text.apply(lambda x: x.lower())"
   ]
  },
  {
   "cell_type": "markdown",
   "metadata": {},
   "source": [
    "3.5.4. Validate (review) text has been converted into lowercase"
   ]
  },
  {
   "cell_type": "code",
   "execution_count": 20,
   "metadata": {},
   "outputs": [
    {
     "data": {
      "text/html": [
       "<div>\n",
       "<style scoped>\n",
       "    .dataframe tbody tr th:only-of-type {\n",
       "        vertical-align: middle;\n",
       "    }\n",
       "\n",
       "    .dataframe tbody tr th {\n",
       "        vertical-align: top;\n",
       "    }\n",
       "\n",
       "    .dataframe thead th {\n",
       "        text-align: right;\n",
       "    }\n",
       "</style>\n",
       "<table border=\"1\" class=\"dataframe\">\n",
       "  <thead>\n",
       "    <tr style=\"text-align: right;\">\n",
       "      <th></th>\n",
       "      <th>stars</th>\n",
       "      <th>text</th>\n",
       "    </tr>\n",
       "  </thead>\n",
       "  <tbody>\n",
       "    <tr>\n",
       "      <th>0</th>\n",
       "      <td>1</td>\n",
       "      <td>total bill for this horrible service? over $8g...</td>\n",
       "    </tr>\n",
       "    <tr>\n",
       "      <th>1</th>\n",
       "      <td>5</td>\n",
       "      <td>i *adore* travis at the hard rock's new kelly ...</td>\n",
       "    </tr>\n",
       "    <tr>\n",
       "      <th>2</th>\n",
       "      <td>5</td>\n",
       "      <td>i have to say that this office really has it t...</td>\n",
       "    </tr>\n",
       "    <tr>\n",
       "      <th>3</th>\n",
       "      <td>5</td>\n",
       "      <td>went in for a lunch. steak sandwich was delici...</td>\n",
       "    </tr>\n",
       "    <tr>\n",
       "      <th>4</th>\n",
       "      <td>1</td>\n",
       "      <td>today was my second out of three sessions i ha...</td>\n",
       "    </tr>\n",
       "  </tbody>\n",
       "</table>\n",
       "</div>"
      ],
      "text/plain": [
       "  stars                                               text\n",
       "0     1  total bill for this horrible service? over $8g...\n",
       "1     5  i *adore* travis at the hard rock's new kelly ...\n",
       "2     5  i have to say that this office really has it t...\n",
       "3     5  went in for a lunch. steak sandwich was delici...\n",
       "4     1  today was my second out of three sessions i ha..."
      ]
     },
     "execution_count": 20,
     "metadata": {},
     "output_type": "execute_result"
    }
   ],
   "source": [
    "review_data.head()"
   ]
  },
  {
   "cell_type": "markdown",
   "metadata": {},
   "source": [
    "3.5.5. Remove all punctuations"
   ]
  },
  {
   "cell_type": "markdown",
   "metadata": {},
   "source": [
    "Punctuations are necessary part of language, but it does not assists us in text classification/categorization."
   ]
  },
  {
   "cell_type": "code",
   "execution_count": 21,
   "metadata": {},
   "outputs": [],
   "source": [
    "review_data.text = review_data.text.apply(lambda x: x.translate(str.maketrans('','', string.punctuation)))"
   ]
  },
  {
   "cell_type": "markdown",
   "metadata": {},
   "source": [
    "3.5.6. Validate all punctuations have been removed"
   ]
  },
  {
   "cell_type": "code",
   "execution_count": 22,
   "metadata": {},
   "outputs": [
    {
     "data": {
      "text/html": [
       "<div>\n",
       "<style scoped>\n",
       "    .dataframe tbody tr th:only-of-type {\n",
       "        vertical-align: middle;\n",
       "    }\n",
       "\n",
       "    .dataframe tbody tr th {\n",
       "        vertical-align: top;\n",
       "    }\n",
       "\n",
       "    .dataframe thead th {\n",
       "        text-align: right;\n",
       "    }\n",
       "</style>\n",
       "<table border=\"1\" class=\"dataframe\">\n",
       "  <thead>\n",
       "    <tr style=\"text-align: right;\">\n",
       "      <th></th>\n",
       "      <th>stars</th>\n",
       "      <th>text</th>\n",
       "    </tr>\n",
       "  </thead>\n",
       "  <tbody>\n",
       "    <tr>\n",
       "      <th>0</th>\n",
       "      <td>1</td>\n",
       "      <td>total bill for this horrible service over 8gs ...</td>\n",
       "    </tr>\n",
       "    <tr>\n",
       "      <th>1</th>\n",
       "      <td>5</td>\n",
       "      <td>i adore travis at the hard rocks new kelly car...</td>\n",
       "    </tr>\n",
       "    <tr>\n",
       "      <th>2</th>\n",
       "      <td>5</td>\n",
       "      <td>i have to say that this office really has it t...</td>\n",
       "    </tr>\n",
       "    <tr>\n",
       "      <th>3</th>\n",
       "      <td>5</td>\n",
       "      <td>went in for a lunch steak sandwich was delicio...</td>\n",
       "    </tr>\n",
       "    <tr>\n",
       "      <th>4</th>\n",
       "      <td>1</td>\n",
       "      <td>today was my second out of three sessions i ha...</td>\n",
       "    </tr>\n",
       "  </tbody>\n",
       "</table>\n",
       "</div>"
      ],
      "text/plain": [
       "  stars                                               text\n",
       "0     1  total bill for this horrible service over 8gs ...\n",
       "1     5  i adore travis at the hard rocks new kelly car...\n",
       "2     5  i have to say that this office really has it t...\n",
       "3     5  went in for a lunch steak sandwich was delicio...\n",
       "4     1  today was my second out of three sessions i ha..."
      ]
     },
     "execution_count": 22,
     "metadata": {},
     "output_type": "execute_result"
    }
   ],
   "source": [
    "review_data.head()"
   ]
  },
  {
   "cell_type": "markdown",
   "metadata": {},
   "source": [
    "3.5.7. Remove all numbers"
   ]
  },
  {
   "cell_type": "markdown",
   "metadata": {},
   "source": [
    "We are trying to classify text or categorize text, not numbers."
   ]
  },
  {
   "cell_type": "code",
   "execution_count": 23,
   "metadata": {},
   "outputs": [],
   "source": [
    "review_data.text = review_data.text.apply(lambda x: x.translate(str.maketrans('','', string.digits)))"
   ]
  },
  {
   "cell_type": "markdown",
   "metadata": {},
   "source": [
    "3.5.8. Validate all numbers have been removed"
   ]
  },
  {
   "cell_type": "code",
   "execution_count": 24,
   "metadata": {},
   "outputs": [
    {
     "data": {
      "text/html": [
       "<div>\n",
       "<style scoped>\n",
       "    .dataframe tbody tr th:only-of-type {\n",
       "        vertical-align: middle;\n",
       "    }\n",
       "\n",
       "    .dataframe tbody tr th {\n",
       "        vertical-align: top;\n",
       "    }\n",
       "\n",
       "    .dataframe thead th {\n",
       "        text-align: right;\n",
       "    }\n",
       "</style>\n",
       "<table border=\"1\" class=\"dataframe\">\n",
       "  <thead>\n",
       "    <tr style=\"text-align: right;\">\n",
       "      <th></th>\n",
       "      <th>stars</th>\n",
       "      <th>text</th>\n",
       "    </tr>\n",
       "  </thead>\n",
       "  <tbody>\n",
       "    <tr>\n",
       "      <th>0</th>\n",
       "      <td>1</td>\n",
       "      <td>total bill for this horrible service over gs t...</td>\n",
       "    </tr>\n",
       "    <tr>\n",
       "      <th>1</th>\n",
       "      <td>5</td>\n",
       "      <td>i adore travis at the hard rocks new kelly car...</td>\n",
       "    </tr>\n",
       "    <tr>\n",
       "      <th>2</th>\n",
       "      <td>5</td>\n",
       "      <td>i have to say that this office really has it t...</td>\n",
       "    </tr>\n",
       "    <tr>\n",
       "      <th>3</th>\n",
       "      <td>5</td>\n",
       "      <td>went in for a lunch steak sandwich was delicio...</td>\n",
       "    </tr>\n",
       "    <tr>\n",
       "      <th>4</th>\n",
       "      <td>1</td>\n",
       "      <td>today was my second out of three sessions i ha...</td>\n",
       "    </tr>\n",
       "  </tbody>\n",
       "</table>\n",
       "</div>"
      ],
      "text/plain": [
       "  stars                                               text\n",
       "0     1  total bill for this horrible service over gs t...\n",
       "1     5  i adore travis at the hard rocks new kelly car...\n",
       "2     5  i have to say that this office really has it t...\n",
       "3     5  went in for a lunch steak sandwich was delicio...\n",
       "4     1  today was my second out of three sessions i ha..."
      ]
     },
     "execution_count": 24,
     "metadata": {},
     "output_type": "execute_result"
    }
   ],
   "source": [
    "review_data.head()"
   ]
  },
  {
   "cell_type": "markdown",
   "metadata": {},
   "source": [
    "3.5.9. Remove all stop words"
   ]
  },
  {
   "cell_type": "markdown",
   "metadata": {},
   "source": [
    "Stop words are extremely common words which appears a lot everywhere and add little value in text classification/categorization."
   ]
  },
  {
   "cell_type": "code",
   "execution_count": 25,
   "metadata": {},
   "outputs": [],
   "source": [
    "review_data['text_nostop'] = review_data['text'].apply(lambda x: ' '.join([word for word in x.split() if word not in (stop)]))"
   ]
  },
  {
   "cell_type": "markdown",
   "metadata": {},
   "source": [
    "3.5.10. Validate all stop words have been removed"
   ]
  },
  {
   "cell_type": "code",
   "execution_count": 26,
   "metadata": {},
   "outputs": [
    {
     "data": {
      "text/html": [
       "<div>\n",
       "<style scoped>\n",
       "    .dataframe tbody tr th:only-of-type {\n",
       "        vertical-align: middle;\n",
       "    }\n",
       "\n",
       "    .dataframe tbody tr th {\n",
       "        vertical-align: top;\n",
       "    }\n",
       "\n",
       "    .dataframe thead th {\n",
       "        text-align: right;\n",
       "    }\n",
       "</style>\n",
       "<table border=\"1\" class=\"dataframe\">\n",
       "  <thead>\n",
       "    <tr style=\"text-align: right;\">\n",
       "      <th></th>\n",
       "      <th>stars</th>\n",
       "      <th>text</th>\n",
       "      <th>text_nostop</th>\n",
       "    </tr>\n",
       "  </thead>\n",
       "  <tbody>\n",
       "    <tr>\n",
       "      <th>0</th>\n",
       "      <td>1</td>\n",
       "      <td>total bill for this horrible service over gs t...</td>\n",
       "      <td>total bill horrible service gs crooks actually...</td>\n",
       "    </tr>\n",
       "    <tr>\n",
       "      <th>1</th>\n",
       "      <td>5</td>\n",
       "      <td>i adore travis at the hard rocks new kelly car...</td>\n",
       "      <td>adore travis hard rocks new kelly cardenas sal...</td>\n",
       "    </tr>\n",
       "    <tr>\n",
       "      <th>2</th>\n",
       "      <td>5</td>\n",
       "      <td>i have to say that this office really has it t...</td>\n",
       "      <td>say office really together organized friendly ...</td>\n",
       "    </tr>\n",
       "    <tr>\n",
       "      <th>3</th>\n",
       "      <td>5</td>\n",
       "      <td>went in for a lunch steak sandwich was delicio...</td>\n",
       "      <td>went lunch steak sandwich delicious caesar sal...</td>\n",
       "    </tr>\n",
       "    <tr>\n",
       "      <th>4</th>\n",
       "      <td>1</td>\n",
       "      <td>today was my second out of three sessions i ha...</td>\n",
       "      <td>today second three sessions paid although firs...</td>\n",
       "    </tr>\n",
       "  </tbody>\n",
       "</table>\n",
       "</div>"
      ],
      "text/plain": [
       "  stars                                               text  \\\n",
       "0     1  total bill for this horrible service over gs t...   \n",
       "1     5  i adore travis at the hard rocks new kelly car...   \n",
       "2     5  i have to say that this office really has it t...   \n",
       "3     5  went in for a lunch steak sandwich was delicio...   \n",
       "4     1  today was my second out of three sessions i ha...   \n",
       "\n",
       "                                         text_nostop  \n",
       "0  total bill horrible service gs crooks actually...  \n",
       "1  adore travis hard rocks new kelly cardenas sal...  \n",
       "2  say office really together organized friendly ...  \n",
       "3  went lunch steak sandwich delicious caesar sal...  \n",
       "4  today second three sessions paid although firs...  "
      ]
     },
     "execution_count": 26,
     "metadata": {},
     "output_type": "execute_result"
    }
   ],
   "source": [
    "review_data.head()"
   ]
  },
  {
   "cell_type": "markdown",
   "metadata": {},
   "source": [
    "3.5.11. Remove text field/column and rename text_nostop to text"
   ]
  },
  {
   "cell_type": "code",
   "execution_count": 27,
   "metadata": {},
   "outputs": [],
   "source": [
    "review_data = review_data.drop(['text'], axis = 1)"
   ]
  },
  {
   "cell_type": "code",
   "execution_count": 28,
   "metadata": {},
   "outputs": [
    {
     "data": {
      "text/html": [
       "<div>\n",
       "<style scoped>\n",
       "    .dataframe tbody tr th:only-of-type {\n",
       "        vertical-align: middle;\n",
       "    }\n",
       "\n",
       "    .dataframe tbody tr th {\n",
       "        vertical-align: top;\n",
       "    }\n",
       "\n",
       "    .dataframe thead th {\n",
       "        text-align: right;\n",
       "    }\n",
       "</style>\n",
       "<table border=\"1\" class=\"dataframe\">\n",
       "  <thead>\n",
       "    <tr style=\"text-align: right;\">\n",
       "      <th></th>\n",
       "      <th>stars</th>\n",
       "      <th>text_nostop</th>\n",
       "    </tr>\n",
       "  </thead>\n",
       "  <tbody>\n",
       "    <tr>\n",
       "      <th>0</th>\n",
       "      <td>1</td>\n",
       "      <td>total bill horrible service gs crooks actually...</td>\n",
       "    </tr>\n",
       "    <tr>\n",
       "      <th>1</th>\n",
       "      <td>5</td>\n",
       "      <td>adore travis hard rocks new kelly cardenas sal...</td>\n",
       "    </tr>\n",
       "    <tr>\n",
       "      <th>2</th>\n",
       "      <td>5</td>\n",
       "      <td>say office really together organized friendly ...</td>\n",
       "    </tr>\n",
       "    <tr>\n",
       "      <th>3</th>\n",
       "      <td>5</td>\n",
       "      <td>went lunch steak sandwich delicious caesar sal...</td>\n",
       "    </tr>\n",
       "    <tr>\n",
       "      <th>4</th>\n",
       "      <td>1</td>\n",
       "      <td>today second three sessions paid although firs...</td>\n",
       "    </tr>\n",
       "  </tbody>\n",
       "</table>\n",
       "</div>"
      ],
      "text/plain": [
       "  stars                                        text_nostop\n",
       "0     1  total bill horrible service gs crooks actually...\n",
       "1     5  adore travis hard rocks new kelly cardenas sal...\n",
       "2     5  say office really together organized friendly ...\n",
       "3     5  went lunch steak sandwich delicious caesar sal...\n",
       "4     1  today second three sessions paid although firs..."
      ]
     },
     "execution_count": 28,
     "metadata": {},
     "output_type": "execute_result"
    }
   ],
   "source": [
    "review_data.head()"
   ]
  },
  {
   "cell_type": "code",
   "execution_count": 29,
   "metadata": {},
   "outputs": [],
   "source": [
    "review_data.rename(columns={'text_nostop': 'text'}, inplace=True)"
   ]
  },
  {
   "cell_type": "code",
   "execution_count": 30,
   "metadata": {},
   "outputs": [
    {
     "data": {
      "text/html": [
       "<div>\n",
       "<style scoped>\n",
       "    .dataframe tbody tr th:only-of-type {\n",
       "        vertical-align: middle;\n",
       "    }\n",
       "\n",
       "    .dataframe tbody tr th {\n",
       "        vertical-align: top;\n",
       "    }\n",
       "\n",
       "    .dataframe thead th {\n",
       "        text-align: right;\n",
       "    }\n",
       "</style>\n",
       "<table border=\"1\" class=\"dataframe\">\n",
       "  <thead>\n",
       "    <tr style=\"text-align: right;\">\n",
       "      <th></th>\n",
       "      <th>stars</th>\n",
       "      <th>text</th>\n",
       "    </tr>\n",
       "  </thead>\n",
       "  <tbody>\n",
       "    <tr>\n",
       "      <th>0</th>\n",
       "      <td>1</td>\n",
       "      <td>total bill horrible service gs crooks actually...</td>\n",
       "    </tr>\n",
       "    <tr>\n",
       "      <th>1</th>\n",
       "      <td>5</td>\n",
       "      <td>adore travis hard rocks new kelly cardenas sal...</td>\n",
       "    </tr>\n",
       "    <tr>\n",
       "      <th>2</th>\n",
       "      <td>5</td>\n",
       "      <td>say office really together organized friendly ...</td>\n",
       "    </tr>\n",
       "    <tr>\n",
       "      <th>3</th>\n",
       "      <td>5</td>\n",
       "      <td>went lunch steak sandwich delicious caesar sal...</td>\n",
       "    </tr>\n",
       "    <tr>\n",
       "      <th>4</th>\n",
       "      <td>1</td>\n",
       "      <td>today second three sessions paid although firs...</td>\n",
       "    </tr>\n",
       "  </tbody>\n",
       "</table>\n",
       "</div>"
      ],
      "text/plain": [
       "  stars                                               text\n",
       "0     1  total bill horrible service gs crooks actually...\n",
       "1     5  adore travis hard rocks new kelly cardenas sal...\n",
       "2     5  say office really together organized friendly ...\n",
       "3     5  went lunch steak sandwich delicious caesar sal...\n",
       "4     1  today second three sessions paid although firs..."
      ]
     },
     "execution_count": 30,
     "metadata": {},
     "output_type": "execute_result"
    }
   ],
   "source": [
    "review_data.head()"
   ]
  },
  {
   "cell_type": "markdown",
   "metadata": {},
   "source": [
    "#### 3.6. Prep Data"
   ]
  },
  {
   "cell_type": "markdown",
   "metadata": {},
   "source": [
    "3.6.1. Convert stars to label that will be used by model"
   ]
  },
  {
   "cell_type": "markdown",
   "metadata": {},
   "source": [
    "fastText requires all labels to be in this format => '\\_\\_label\\_\\_value' where 1 star becomes \\_\\_label\\_\\_1.  This implies that data that are input to fastText would be in this format:\n",
    "\n",
    "\\_\\_label\\_\\_1 Text...............................Text <br>\n",
    "\\_\\_label\\_\\_1 Text...............................Text <br>\n",
    "\\_\\_label\\_\\_1 Text...............................Text <br>\n",
    "\\_\\_label\\_\\_1 Text...............................Text <br>\n",
    "\\_\\_label\\_\\_1 Text...............................Text"
   ]
  },
  {
   "cell_type": "code",
   "execution_count": 31,
   "metadata": {},
   "outputs": [],
   "source": [
    "review_data.loc[review_data['stars'] == '1', 'stars'] = '__label__1'\n",
    "review_data.loc[review_data['stars'] == '2', 'stars'] = '__label__2'\n",
    "review_data.loc[review_data['stars'] == '3', 'stars'] = '__label__3'\n",
    "review_data.loc[review_data['stars'] == '4', 'stars'] = '__label__4'\n",
    "review_data.loc[review_data['stars'] == '5', 'stars'] = '__label__5'"
   ]
  },
  {
   "cell_type": "markdown",
   "metadata": {},
   "source": [
    "3.6.2. Validate that stars have been successfully converted into labels"
   ]
  },
  {
   "cell_type": "code",
   "execution_count": 32,
   "metadata": {},
   "outputs": [
    {
     "data": {
      "text/html": [
       "<div>\n",
       "<style scoped>\n",
       "    .dataframe tbody tr th:only-of-type {\n",
       "        vertical-align: middle;\n",
       "    }\n",
       "\n",
       "    .dataframe tbody tr th {\n",
       "        vertical-align: top;\n",
       "    }\n",
       "\n",
       "    .dataframe thead th {\n",
       "        text-align: right;\n",
       "    }\n",
       "</style>\n",
       "<table border=\"1\" class=\"dataframe\">\n",
       "  <thead>\n",
       "    <tr style=\"text-align: right;\">\n",
       "      <th></th>\n",
       "      <th>stars</th>\n",
       "      <th>text</th>\n",
       "    </tr>\n",
       "  </thead>\n",
       "  <tbody>\n",
       "    <tr>\n",
       "      <th>0</th>\n",
       "      <td>__label__1</td>\n",
       "      <td>total bill horrible service gs crooks actually...</td>\n",
       "    </tr>\n",
       "    <tr>\n",
       "      <th>1</th>\n",
       "      <td>__label__5</td>\n",
       "      <td>adore travis hard rocks new kelly cardenas sal...</td>\n",
       "    </tr>\n",
       "    <tr>\n",
       "      <th>2</th>\n",
       "      <td>__label__5</td>\n",
       "      <td>say office really together organized friendly ...</td>\n",
       "    </tr>\n",
       "    <tr>\n",
       "      <th>3</th>\n",
       "      <td>__label__5</td>\n",
       "      <td>went lunch steak sandwich delicious caesar sal...</td>\n",
       "    </tr>\n",
       "    <tr>\n",
       "      <th>4</th>\n",
       "      <td>__label__1</td>\n",
       "      <td>today second three sessions paid although firs...</td>\n",
       "    </tr>\n",
       "  </tbody>\n",
       "</table>\n",
       "</div>"
      ],
      "text/plain": [
       "        stars                                               text\n",
       "0  __label__1  total bill horrible service gs crooks actually...\n",
       "1  __label__5  adore travis hard rocks new kelly cardenas sal...\n",
       "2  __label__5  say office really together organized friendly ...\n",
       "3  __label__5  went lunch steak sandwich delicious caesar sal...\n",
       "4  __label__1  today second three sessions paid although firs..."
      ]
     },
     "execution_count": 32,
     "metadata": {},
     "output_type": "execute_result"
    }
   ],
   "source": [
    "review_data.head()"
   ]
  },
  {
   "cell_type": "markdown",
   "metadata": {},
   "source": [
    "3.6.3. Split the dataset to Train and Test using 80/20 split"
   ]
  },
  {
   "cell_type": "markdown",
   "metadata": {},
   "source": [
    "We will be using a nice tool from sklearn (scitkit learn) to split the data set."
   ]
  },
  {
   "cell_type": "code",
   "execution_count": 33,
   "metadata": {},
   "outputs": [],
   "source": [
    "from sklearn.model_selection import train_test_split\n",
    "train_review_data, test_review_data = train_test_split(review_data, test_size=0.2)"
   ]
  },
  {
   "cell_type": "markdown",
   "metadata": {},
   "source": [
    "3.6.4. Validate the split"
   ]
  },
  {
   "cell_type": "code",
   "execution_count": 34,
   "metadata": {},
   "outputs": [
    {
     "data": {
      "text/plain": [
       "(5348720, 2)"
      ]
     },
     "execution_count": 34,
     "metadata": {},
     "output_type": "execute_result"
    }
   ],
   "source": [
    "train_review_data.shape"
   ]
  },
  {
   "cell_type": "code",
   "execution_count": 35,
   "metadata": {},
   "outputs": [
    {
     "data": {
      "text/html": [
       "<div>\n",
       "<style scoped>\n",
       "    .dataframe tbody tr th:only-of-type {\n",
       "        vertical-align: middle;\n",
       "    }\n",
       "\n",
       "    .dataframe tbody tr th {\n",
       "        vertical-align: top;\n",
       "    }\n",
       "\n",
       "    .dataframe thead th {\n",
       "        text-align: right;\n",
       "    }\n",
       "</style>\n",
       "<table border=\"1\" class=\"dataframe\">\n",
       "  <thead>\n",
       "    <tr style=\"text-align: right;\">\n",
       "      <th></th>\n",
       "      <th>stars</th>\n",
       "      <th>text</th>\n",
       "    </tr>\n",
       "  </thead>\n",
       "  <tbody>\n",
       "    <tr>\n",
       "      <th>3853275</th>\n",
       "      <td>__label__4</td>\n",
       "      <td>new dim sum inside rio casino many yelpers rav...</td>\n",
       "    </tr>\n",
       "    <tr>\n",
       "      <th>2014575</th>\n",
       "      <td>__label__4</td>\n",
       "      <td>like going place close work rarely busy people...</td>\n",
       "    </tr>\n",
       "    <tr>\n",
       "      <th>1230923</th>\n",
       "      <td>__label__4</td>\n",
       "      <td>sort stumbled place one day looking joint serv...</td>\n",
       "    </tr>\n",
       "    <tr>\n",
       "      <th>3804225</th>\n",
       "      <td>__label__2</td>\n",
       "      <td>reservation place pulled parking lot saw drug ...</td>\n",
       "    </tr>\n",
       "    <tr>\n",
       "      <th>3883380</th>\n",
       "      <td>__label__5</td>\n",
       "      <td>best korean food las vegas must get galbi gom ...</td>\n",
       "    </tr>\n",
       "  </tbody>\n",
       "</table>\n",
       "</div>"
      ],
      "text/plain": [
       "              stars                                               text\n",
       "3853275  __label__4  new dim sum inside rio casino many yelpers rav...\n",
       "2014575  __label__4  like going place close work rarely busy people...\n",
       "1230923  __label__4  sort stumbled place one day looking joint serv...\n",
       "3804225  __label__2  reservation place pulled parking lot saw drug ...\n",
       "3883380  __label__5  best korean food las vegas must get galbi gom ..."
      ]
     },
     "execution_count": 35,
     "metadata": {},
     "output_type": "execute_result"
    }
   ],
   "source": [
    "train_review_data.head()"
   ]
  },
  {
   "cell_type": "code",
   "execution_count": 36,
   "metadata": {},
   "outputs": [
    {
     "data": {
      "text/plain": [
       "__label__5    43.884163\n",
       "__label__4    21.964769\n",
       "__label__1    14.979827\n",
       "__label__3    11.052476\n",
       "__label__2     8.118765\n",
       "Name: stars, dtype: float64"
      ]
     },
     "execution_count": 36,
     "metadata": {},
     "output_type": "execute_result"
    }
   ],
   "source": [
    "(train_review_data['stars'].value_counts(normalize=True))*100"
   ]
  },
  {
   "cell_type": "code",
   "execution_count": 37,
   "metadata": {},
   "outputs": [
    {
     "data": {
      "text/plain": [
       "(1337180, 2)"
      ]
     },
     "execution_count": 37,
     "metadata": {},
     "output_type": "execute_result"
    }
   ],
   "source": [
    "test_review_data.shape"
   ]
  },
  {
   "cell_type": "code",
   "execution_count": 38,
   "metadata": {},
   "outputs": [
    {
     "data": {
      "text/html": [
       "<div>\n",
       "<style scoped>\n",
       "    .dataframe tbody tr th:only-of-type {\n",
       "        vertical-align: middle;\n",
       "    }\n",
       "\n",
       "    .dataframe tbody tr th {\n",
       "        vertical-align: top;\n",
       "    }\n",
       "\n",
       "    .dataframe thead th {\n",
       "        text-align: right;\n",
       "    }\n",
       "</style>\n",
       "<table border=\"1\" class=\"dataframe\">\n",
       "  <thead>\n",
       "    <tr style=\"text-align: right;\">\n",
       "      <th></th>\n",
       "      <th>stars</th>\n",
       "      <th>text</th>\n",
       "    </tr>\n",
       "  </thead>\n",
       "  <tbody>\n",
       "    <tr>\n",
       "      <th>1503204</th>\n",
       "      <td>__label__1</td>\n",
       "      <td>nothing like sitting table min staff talking r...</td>\n",
       "    </tr>\n",
       "    <tr>\n",
       "      <th>606142</th>\n",
       "      <td>__label__5</td>\n",
       "      <td>everytime im town find excuse use company far ...</td>\n",
       "    </tr>\n",
       "    <tr>\n",
       "      <th>2975707</th>\n",
       "      <td>__label__5</td>\n",
       "      <td>awesome experience felt home great people shar...</td>\n",
       "    </tr>\n",
       "    <tr>\n",
       "      <th>4214715</th>\n",
       "      <td>__label__4</td>\n",
       "      <td>good ambience nice atmosphere allyoucaneat fis...</td>\n",
       "    </tr>\n",
       "    <tr>\n",
       "      <th>3575698</th>\n",
       "      <td>__label__5</td>\n",
       "      <td>andi thank much helping us krista amazing job ...</td>\n",
       "    </tr>\n",
       "  </tbody>\n",
       "</table>\n",
       "</div>"
      ],
      "text/plain": [
       "              stars                                               text\n",
       "1503204  __label__1  nothing like sitting table min staff talking r...\n",
       "606142   __label__5  everytime im town find excuse use company far ...\n",
       "2975707  __label__5  awesome experience felt home great people shar...\n",
       "4214715  __label__4  good ambience nice atmosphere allyoucaneat fis...\n",
       "3575698  __label__5  andi thank much helping us krista amazing job ..."
      ]
     },
     "execution_count": 38,
     "metadata": {},
     "output_type": "execute_result"
    }
   ],
   "source": [
    "test_review_data.head()"
   ]
  },
  {
   "cell_type": "code",
   "execution_count": 39,
   "metadata": {},
   "outputs": [
    {
     "data": {
      "text/plain": [
       "__label__5    43.811678\n",
       "__label__4    21.997861\n",
       "__label__1    15.026399\n",
       "__label__3    11.076594\n",
       "__label__2     8.087468\n",
       "Name: stars, dtype: float64"
      ]
     },
     "execution_count": 39,
     "metadata": {},
     "output_type": "execute_result"
    }
   ],
   "source": [
    "(test_review_data['stars'].value_counts(normalize=True))*100"
   ]
  },
  {
   "cell_type": "markdown",
   "metadata": {},
   "source": [
    "We need to do some memory management since these datasets are big and occupies a lot of memory"
   ]
  },
  {
   "cell_type": "code",
   "execution_count": 40,
   "metadata": {},
   "outputs": [
    {
     "data": {
      "text/plain": [
       "106974480"
      ]
     },
     "execution_count": 40,
     "metadata": {},
     "output_type": "execute_result"
    }
   ],
   "source": [
    "review_data.memory_usage().sum()"
   ]
  },
  {
   "cell_type": "code",
   "execution_count": 41,
   "metadata": {},
   "outputs": [
    {
     "name": "stdout",
     "output_type": "stream",
     "text": [
      "Variable            Type         Data/Info\n",
      "------------------------------------------\n",
      "review_data         DataFrame                  stars      <...>6685900 rows x 2 columns]\n",
      "test_review_data    DataFrame                  stars      <...>1337180 rows x 2 columns]\n",
      "train_review_data   DataFrame                  stars      <...>5348720 rows x 2 columns]\n"
     ]
    }
   ],
   "source": [
    "%whos DataFrame"
   ]
  },
  {
   "cell_type": "code",
   "execution_count": 42,
   "metadata": {},
   "outputs": [],
   "source": [
    "review_data.to_pickle('data/yelp_review_data_prepped.pkl')"
   ]
  },
  {
   "cell_type": "code",
   "execution_count": 43,
   "metadata": {},
   "outputs": [
    {
     "data": {
      "text/plain": [
       "8"
      ]
     },
     "execution_count": 43,
     "metadata": {},
     "output_type": "execute_result"
    }
   ],
   "source": [
    "review_data = pd.DataFrame()\n",
    "del[review_data]\n",
    "gc.collect()"
   ]
  },
  {
   "cell_type": "code",
   "execution_count": 44,
   "metadata": {},
   "outputs": [
    {
     "name": "stdout",
     "output_type": "stream",
     "text": [
      "Variable            Type         Data/Info\n",
      "------------------------------------------\n",
      "test_review_data    DataFrame                  stars      <...>1337180 rows x 2 columns]\n",
      "train_review_data   DataFrame                  stars      <...>5348720 rows x 2 columns]\n"
     ]
    }
   ],
   "source": [
    "%whos DataFrame"
   ]
  },
  {
   "cell_type": "markdown",
   "metadata": {},
   "source": [
    "3.6.5. Export the dataset as text file(s)"
   ]
  },
  {
   "cell_type": "markdown",
   "metadata": {},
   "source": [
    "I tried using many different versions of fastText python wrapper, but none of them worked well.  We will need to save the data as text files so we can use them from the terminal."
   ]
  },
  {
   "cell_type": "markdown",
   "metadata": {},
   "source": [
    "3.6.5.1. Exporting training data"
   ]
  },
  {
   "cell_type": "markdown",
   "metadata": {},
   "source": [
    "Training data will be used to train our Text Classification Model"
   ]
  },
  {
   "cell_type": "code",
   "execution_count": 45,
   "metadata": {},
   "outputs": [],
   "source": [
    "train_review_data.to_csv('data/train_review_data.txt', sep='\\t', index=False)"
   ]
  },
  {
   "cell_type": "markdown",
   "metadata": {},
   "source": [
    "3.6.5.2. Exporting test data"
   ]
  },
  {
   "cell_type": "markdown",
   "metadata": {},
   "source": [
    "Test data will be used to test our Text Classification Model"
   ]
  },
  {
   "cell_type": "code",
   "execution_count": 46,
   "metadata": {},
   "outputs": [],
   "source": [
    "test_review_data.to_csv('data/test_review_data.txt', sep='\\t', index=False)"
   ]
  },
  {
   "cell_type": "markdown",
   "metadata": {},
   "source": [
    "3.6.5.3. Exporting test data without labels"
   ]
  },
  {
   "cell_type": "markdown",
   "metadata": {},
   "source": [
    "This is bit redundant, but we want to make sure our Text Classification do not utilize labels when predicting rating star."
   ]
  },
  {
   "cell_type": "code",
   "execution_count": 47,
   "metadata": {},
   "outputs": [],
   "source": [
    "test_test_data = test_review_data['text']"
   ]
  },
  {
   "cell_type": "code",
   "execution_count": 48,
   "metadata": {},
   "outputs": [],
   "source": [
    "test_test_data.to_csv('data/test_test_data.txt', sep='\\t', index=False)"
   ]
  },
  {
   "cell_type": "markdown",
   "metadata": {},
   "source": [
    "3.6.6. Save the data as pickle file, just in case"
   ]
  },
  {
   "cell_type": "code",
   "execution_count": 49,
   "metadata": {},
   "outputs": [],
   "source": [
    "train_review_data.to_pickle('data/yelp_review_data_prepped_train.pkl')\n",
    "test_review_data.to_pickle('data/yelp_review_data_prepped_test.pkl')"
   ]
  },
  {
   "cell_type": "markdown",
   "metadata": {},
   "source": [
    "#### 3.7. Develop Model"
   ]
  },
  {
   "cell_type": "markdown",
   "metadata": {},
   "source": [
    "Follow these steps to develop/train model:\n",
    "1. In terminal window, navigate to where your fastText is installed.  For myself, it is /home/sungkim/fastText\n",
    "2. fastText command we will be using is 'fasttext supervised -input training_file -output model_name'\n",
    "3. Our training file name is 'train_review_data.txt'\n",
    "4. Our model name is 'yelp_model_v1'.  We like to version our models so we can come back to it.\n",
    "5. With that in mind, enter following command in your terminal.  My data (i.e., text files) are located in d:\\Mediumworx\\analytics\\Text_Classification\\data directory, hence the long path."
   ]
  },
  {
   "cell_type": "raw",
   "metadata": {},
   "source": [
    "./fasttext supervised -input /mnt/d/Mediumworx/analytics/Text_Classification/data/train_review_data.txt -output /mnt/d/Mediumworx/analytics/Text_Classification//model/yelp_model_v1"
   ]
  },
  {
   "cell_type": "markdown",
   "metadata": {},
   "source": [
    "While it is training model, it should look like this"
   ]
  },
  {
   "cell_type": "markdown",
   "metadata": {},
   "source": [
    "![Training In Progress](images/image01.jpg)"
   ]
  },
  {
   "cell_type": "markdown",
   "metadata": {},
   "source": [
    "When model training has been completed, it should look like as follow:"
   ]
  },
  {
   "cell_type": "markdown",
   "metadata": {},
   "source": [
    "![Training Completed](images/image02.jpg)"
   ]
  },
  {
   "cell_type": "markdown",
   "metadata": {},
   "source": [
    "#### 3.8. Test Model"
   ]
  },
  {
   "cell_type": "markdown",
   "metadata": {},
   "source": [
    "After model training/development has been completed, we will need to test our new model. Follow these steps below:\n",
    "1. fastText command we will be using is 'fasttext test model_name test_data'\n",
    "3. Our test file name is 'test_review_data.txt'\n",
    "4. Our model name is 'yelp_model_v1'.\n",
    "5. With that in mind, enter following command in your terminal.  My data (i.e., text files) are located in d:\\Mediumworx\\analytics\\Text_Classification\\data directory, hence the long path."
   ]
  },
  {
   "cell_type": "raw",
   "metadata": {},
   "source": [
    "./fasttext test /mnt/d/Mediumworx/analytics/Text_Classification//model/yelp_model_v1.bin /mnt/d/Mediumworx/analytics/Text_Classification/data/test_review_data.txt 1"
   ]
  },
  {
   "cell_type": "markdown",
   "metadata": {},
   "source": [
    "When model testing has been completed, it should look like as follow:"
   ]
  },
  {
   "cell_type": "markdown",
   "metadata": {},
   "source": [
    "![Testing Completed](images/image03.jpg)"
   ]
  },
  {
   "cell_type": "markdown",
   "metadata": {},
   "source": [
    "Here is little explanation of N, P@1 and R@1:\n",
    "* N represents number of records tested\n",
    "* P@1 represents precision at position 1\n",
    "* R@1 represents recall at position 1\n",
    "\n",
    "N - Our test data had 1,337,180 records or lines in test data file. <BR>\n",
    "P@1 - Text can be tagged with multiple labels. Since we are only trying to predict only one label, we are ONLY concerned with position 1 where model correctly predicted label 68.7% of the time. Pretty good, but could be better. <BR>\n",
    "R@1 - Text can be tagged with multiple labels. Since we are only trying to predict only one label, we are ONLY concerned with position 1 where model correctly recalled label 68.7% of the time - out of all labels in position 1, 68.7% are correct. Pretty good, but could be better. <BR>\n",
    "<BR>\n",
    "Notes: In this instance, it is expected P@1 and R@1 will return same number."
   ]
  },
  {
   "cell_type": "markdown",
   "metadata": {},
   "source": [
    "#### 3.9. Predict 'Rating Star'"
   ]
  },
  {
   "cell_type": "markdown",
   "metadata": {},
   "source": [
    "After model has been tested, we will need to predict results (i.e., labels) from our new model so we can validate the model in more details. Follow these steps below:\n",
    "1. fastText command we will be using is 'fasttext predict-prob model_name test_data > predict_data'\n",
    "2. Our test file name is 'test_test_data.txt'. The test file without any labels.\n",
    "3. Our model name is 'yelp_model_v1'.\n",
    "4. Our predict file name is 'test_predict_data_v1.txt'\n",
    "5. With that in mind, enter following command in your terminal.  My data (i.e., text files) are located in d:\\Mediumworx\\analytics\\Text_Classification\\data directory, hence the long path."
   ]
  },
  {
   "cell_type": "raw",
   "metadata": {},
   "source": [
    "./fasttext predict-prob /mnt/d/Mediumworx/analytics/Text_Classification//model/yelp_model_v1.bin /mnt/d/Mediumworx/analytics/Text_Classification/data/test_test_data.txt 1 > /mnt/d/Mediumworx/analytics/Text_Classification/data/test_predict_data_v1.txt"
   ]
  },
  {
   "cell_type": "markdown",
   "metadata": {},
   "source": [
    "![Predict Completed](images/image04.jpg)"
   ]
  },
  {
   "cell_type": "markdown",
   "metadata": {},
   "source": [
    "#### 3.10. Validate Model"
   ]
  },
  {
   "cell_type": "markdown",
   "metadata": {},
   "source": [
    "3.10.1. Import predict result using test data"
   ]
  },
  {
   "cell_type": "code",
   "execution_count": 50,
   "metadata": {},
   "outputs": [],
   "source": [
    "test_predict_data_v1 = pd.read_csv('data/test_predict_data_v1.txt', delimiter=r\"\\s+\", header=None)\n",
    "test_predict_data_v1.columns = ['predict', 'predict-prob']"
   ]
  },
  {
   "cell_type": "markdown",
   "metadata": {},
   "source": [
    "3.10.2. Validate predict result has been imported correctly"
   ]
  },
  {
   "cell_type": "code",
   "execution_count": 51,
   "metadata": {},
   "outputs": [
    {
     "name": "stdout",
     "output_type": "stream",
     "text": [
      "<class 'pandas.core.frame.DataFrame'>\n",
      "RangeIndex: 1337180 entries, 0 to 1337179\n",
      "Data columns (total 2 columns):\n",
      "predict         1337180 non-null object\n",
      "predict-prob    1337180 non-null float64\n",
      "dtypes: float64(1), object(1)\n",
      "memory usage: 20.4+ MB\n"
     ]
    }
   ],
   "source": [
    "test_predict_data_v1.info()"
   ]
  },
  {
   "cell_type": "code",
   "execution_count": 52,
   "metadata": {},
   "outputs": [
    {
     "data": {
      "text/html": [
       "<div>\n",
       "<style scoped>\n",
       "    .dataframe tbody tr th:only-of-type {\n",
       "        vertical-align: middle;\n",
       "    }\n",
       "\n",
       "    .dataframe tbody tr th {\n",
       "        vertical-align: top;\n",
       "    }\n",
       "\n",
       "    .dataframe thead th {\n",
       "        text-align: right;\n",
       "    }\n",
       "</style>\n",
       "<table border=\"1\" class=\"dataframe\">\n",
       "  <thead>\n",
       "    <tr style=\"text-align: right;\">\n",
       "      <th></th>\n",
       "      <th>predict</th>\n",
       "      <th>predict-prob</th>\n",
       "    </tr>\n",
       "  </thead>\n",
       "  <tbody>\n",
       "    <tr>\n",
       "      <th>0</th>\n",
       "      <td>__label__1</td>\n",
       "      <td>0.749564</td>\n",
       "    </tr>\n",
       "    <tr>\n",
       "      <th>1</th>\n",
       "      <td>__label__5</td>\n",
       "      <td>0.963642</td>\n",
       "    </tr>\n",
       "    <tr>\n",
       "      <th>2</th>\n",
       "      <td>__label__5</td>\n",
       "      <td>0.885339</td>\n",
       "    </tr>\n",
       "    <tr>\n",
       "      <th>3</th>\n",
       "      <td>__label__4</td>\n",
       "      <td>0.630630</td>\n",
       "    </tr>\n",
       "    <tr>\n",
       "      <th>4</th>\n",
       "      <td>__label__5</td>\n",
       "      <td>0.969490</td>\n",
       "    </tr>\n",
       "  </tbody>\n",
       "</table>\n",
       "</div>"
      ],
      "text/plain": [
       "      predict  predict-prob\n",
       "0  __label__1      0.749564\n",
       "1  __label__5      0.963642\n",
       "2  __label__5      0.885339\n",
       "3  __label__4      0.630630\n",
       "4  __label__5      0.969490"
      ]
     },
     "execution_count": 52,
     "metadata": {},
     "output_type": "execute_result"
    }
   ],
   "source": [
    "test_predict_data_v1.head()"
   ]
  },
  {
   "cell_type": "markdown",
   "metadata": {},
   "source": [
    "3.10.3. Create something called \"Confusion Matrix\" to see how our model predicted the star rating"
   ]
  },
  {
   "cell_type": "markdown",
   "metadata": {},
   "source": [
    "The term \"Confusion Matrix\" is confusing, but it is basically cross tab that compare expected result (label in test data) with predicted result (label in predict data) since 68.7% precision does not provide a lot of information"
   ]
  },
  {
   "cell_type": "code",
   "execution_count": 53,
   "metadata": {},
   "outputs": [],
   "source": [
    "from sklearn.metrics import confusion_matrix"
   ]
  },
  {
   "cell_type": "code",
   "execution_count": 54,
   "metadata": {},
   "outputs": [],
   "source": [
    "import numpy as np\n",
    "\n",
    "def plot_confusion_matrix(cm,\n",
    "                          target_names,\n",
    "                          title='Confusion matrix',\n",
    "                          cmap=None,\n",
    "                          normalize=True):\n",
    "    \"\"\"\n",
    "    given a sklearn confusion matrix (cm), make a nice plot\n",
    "\n",
    "    Arguments\n",
    "    ---------\n",
    "    cm:           confusion matrix from sklearn.metrics.confusion_matrix\n",
    "    target_names: given classification classes such as [0, 1, 2]\n",
    "                  the class names, for example: ['high', 'medium', 'low']\n",
    "    title:        the text to display at the top of the matrix\n",
    "    cmap:         the gradient of the values displayed from matplotlib.pyplot.cm\n",
    "                  see http://matplotlib.org/examples/color/colormaps_reference.html\n",
    "                  plt.get_cmap('jet') or plt.cm.Blues\n",
    "    normalize:    If False, plot the raw numbers\n",
    "                  If True, plot the proportions\n",
    "    Usage\n",
    "    -----\n",
    "    plot_confusion_matrix(cm           = cm,                  # confusion matrix created by\n",
    "                                                              # sklearn.metrics.confusion_matrix\n",
    "                          normalize    = True,                # show proportions\n",
    "                          target_names = y_labels_vals,       # list of names of the classes\n",
    "                          title        = best_estimator_name) # title of graph\n",
    "\n",
    "    Citiation\n",
    "    ---------\n",
    "    http://scikit-learn.org/stable/auto_examples/model_selection/plot_confusion_matrix.html\n",
    "\n",
    "    \"\"\"\n",
    "    import matplotlib.pyplot as plt\n",
    "    import numpy as np\n",
    "    import itertools\n",
    "\n",
    "    accuracy = np.trace(cm) / float(np.sum(cm))\n",
    "    misclass = 1 - accuracy\n",
    "\n",
    "    if cmap is None:\n",
    "        cmap = plt.get_cmap('Blues')\n",
    "\n",
    "    plt.figure(figsize=(8, 6))\n",
    "    plt.imshow(cm, interpolation='nearest', cmap=cmap)\n",
    "    plt.title(title)\n",
    "    plt.colorbar()\n",
    "\n",
    "    if target_names is not None:\n",
    "        tick_marks = np.arange(len(target_names))\n",
    "        plt.xticks(tick_marks, target_names, rotation=45)\n",
    "        plt.yticks(tick_marks, target_names)\n",
    "\n",
    "    if normalize:\n",
    "        cm = cm.astype('float') / cm.sum(axis=1)[:, np.newaxis]\n",
    "\n",
    "    thresh = cm.max() / 1.5 if normalize else cm.max() / 2\n",
    "    for i, j in itertools.product(range(cm.shape[0]), range(cm.shape[1])):\n",
    "        if normalize:\n",
    "            plt.text(j, i, \"{:0.4f}\".format(cm[i, j]),\n",
    "                     horizontalalignment=\"center\",\n",
    "                     color=\"white\" if cm[i, j] > thresh else \"black\")\n",
    "        else:\n",
    "            plt.text(j, i, \"{:,}\".format(cm[i, j]),\n",
    "                     horizontalalignment=\"center\",\n",
    "                     color=\"white\" if cm[i, j] > thresh else \"black\")\n",
    "\n",
    "    plt.tight_layout()\n",
    "    plt.ylabel('True label')\n",
    "    plt.xlabel('Predicted label\\naccuracy={:0.4f}; misclass={:0.4f}'.format(accuracy, misclass))\n",
    "    plt.show()"
   ]
  },
  {
   "cell_type": "code",
   "execution_count": 55,
   "metadata": {},
   "outputs": [
    {
     "data": {
      "text/plain": [
       "array([[171069,  17122,   5211,   2152,   5376],\n",
       "       [ 36410,  35404,  25042,   6555,   4733],\n",
       "       [ 11244,  17316,  60073,  46131,  13350],\n",
       "       [  4064,   3159,  25568, 146764, 114596],\n",
       "       [  5104,   1231,   5051,  68715, 505740]])"
      ]
     },
     "execution_count": 55,
     "metadata": {},
     "output_type": "execute_result"
    }
   ],
   "source": [
    "cm_v1 = confusion_matrix(test_review_data['stars'], test_predict_data_v1['predict'])\n",
    "cm_v1"
   ]
  },
  {
   "cell_type": "code",
   "execution_count": 56,
   "metadata": {},
   "outputs": [
    {
     "data": {
      "image/png": "[encoded data removed]",
      "text/plain": [
       "<Figure size 576x432 with 2 Axes>"
      ]
     },
     "metadata": {
      "needs_background": "light"
     },
     "output_type": "display_data"
    }
   ],
   "source": [
    "plot_confusion_matrix(cm=cm_v1, normalize=False, target_names = ['Label 1', 'Label 2', 'Label 3', 'Label 4', 'Label 5'], title = \"Confusion Matrix #\")"
   ]
  },
  {
   "cell_type": "code",
   "execution_count": 57,
   "metadata": {},
   "outputs": [
    {
     "data": {
      "image/png": "[encoded data removed]",
      "text/plain": [
       "<Figure size 576x432 with 2 Axes>"
      ]
     },
     "metadata": {
      "needs_background": "light"
     },
     "output_type": "display_data"
    }
   ],
   "source": [
    "plot_confusion_matrix(cm=cm_v1, normalize=True, target_names = ['Label 1', 'Label 2', 'Label 3', 'Label 4', 'Label 5'], title = \"Confusion Matrix %\")"
   ]
  },
  {
   "cell_type": "markdown",
   "metadata": {},
   "source": [
    "The Confusion Matrix provides following information (I need to format confusion matrix better above):\n",
    "* Label 1 were correctly predicted @ 85.04%, incorrectly predicted as Label 2 @ 08.44% and so on.\n",
    "* Label 2 were correctly predicted @ 32.50%, incorrectly predicted as Label 1 @ 34.17% and so on.\n",
    "* Label 3 were correctly predicted @ 41.15%, incorrectly predicted as Label 4 @ 30.86% and so on.\n",
    "* Label 4 were correctly predicted @ 49.54%, incorrectly predicted as Label 5 @ 39.14% and so on.\n",
    "* Label 5 were correctly predicted @ 86.41%, incorrectly predicted as Label 4 @ 11.64% and so on.\n",
    "\n",
    "Notes:  Both label 1 and label 5 had high prediction rate where as label 2, label 3 and label 4 were not as high."
   ]
  },
  {
   "cell_type": "markdown",
   "metadata": {},
   "source": [
    "### I hope you have enjoyed this tutorial. If you have any questions or comments, please provide them via Issues feature on GitHub"
   ]
  }
 ],
 "metadata": {
  "kernelspec": {
   "display_name": "Python 3",
   "language": "python",
   "name": "python3"
  },
  "language_info": {
   "codemirror_mode": {
    "name": "ipython",
    "version": 3
   },
   "file_extension": ".py",
   "mimetype": "text/x-python",
   "name": "python",
   "nbconvert_exporter": "python",
   "pygments_lexer": "ipython3",
   "version": "3.7.1"
  }
 },
 "nbformat": 4,
 "nbformat_minor": 2
}
