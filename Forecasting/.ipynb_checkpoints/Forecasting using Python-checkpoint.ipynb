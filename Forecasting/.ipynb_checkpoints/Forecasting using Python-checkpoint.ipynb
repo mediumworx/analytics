{
 "cells": [
  {
   "cell_type": "markdown",
   "metadata": {},
   "source": [
    "# Data Science for Business Users"
   ]
  },
  {
   "cell_type": "markdown",
   "metadata": {},
   "source": [
    "## Forecasting Part 2 - Create Forecast using Python"
   ]
  },
  {
   "cell_type": "markdown",
   "metadata": {},
   "source": [
    "##### &emsp;Author:&emsp;&emsp;Mediumworx Analytics\n",
    "##### &emsp;Date:&emsp;&emsp;&emsp;January 15, 2019\n",
    "##### &emsp;Version:&emsp;&emsp;0.1\n",
    "##### &emsp;Revisions:&emsp;\n",
    "* 0.1. Initial version"
   ]
  },
  {
   "cell_type": "markdown",
   "metadata": {},
   "source": [
    "_This tutorial was created to democratize data science for business users (i.e., minimize usage of advanced mathematics topics) and alleviate personal frustration we have experienced on following tutorials and struggling to apply that same tutorial for our needs. In light of this, our mission is as follows:_\n",
    "* _Provide practical application of data science tasks with minimal usage of advanced mathematical topics_\n",
    "* _Only use a full set of data, which are similar to data we see in business environment and that are publicly available in a tutorial, instead of using simple data or snippets of data used by many tutorials_\n",
    "* _Clearly state the prerequisites at beginning of the tutorial.  We will try to provide additional information on those prerequisites_\n",
    "* _Provide both written tutorial and video tutorial on each topic to ensure all steps are easy to follow and clearly illustrated_"
   ]
  },
  {
   "cell_type": "markdown",
   "metadata": {},
   "source": [
    "### 1. Description"
   ]
  },
  {
   "cell_type": "markdown",
   "metadata": {},
   "source": [
    "This is part two of three part series on how to create a forecast, using one of the most widely used data science tool - Python.\n",
    "\n",
    "Forecasting is the process of making predictions of the future based on past and present data and most commonly by analysis of trends.  The accuracy of forecast decreases as you stretch out your forecast. For example, if you are forecasting monthly sales then accuracy of forecast for month 1 sales of forecast will be higher than month 2 sales of forecast and so on. One of my co-worker likes to state that best way to predict tomorrow's weather is to assume it is similar to today's weather. Everything else is just a guess.\n",
    "\n",
    "Forecasting Series consists of:\n",
    "* Create Forecast using Excel 2016/2019\n",
    "* __Create Forecast using Python__\n",
    "* Extend Forecast to include what-if analysis capabilities"
   ]
  },
  {
   "cell_type": "markdown",
   "metadata": {},
   "source": [
    "### 2. Prerequisites"
   ]
  },
  {
   "cell_type": "markdown",
   "metadata": {},
   "source": [
    "Following are prerequisites for this tutorial:\n",
    "    - [x] Python (Anaconda Python is preferred choice, which can be downloaded from here => https://www.anaconda.com/download/)\n",
    "    - [x] Basic knowledge Python (You really do not need to be expert in python to use python for data science tasks. Many data scientists supplement their basic knowledge of python with google :-) to complete their tasks. We will provide a tutorial soon...)\n",
    "    - [x] Basic knowledge Jupyter Notebook/Lab (Good news is that Jupyter Notebook/Lab is easy to use and learn. We will provide a tutorial soon...)\n",
    "    - [x] Basic knowledge Pandas (Pandas is data analysis tool for the Python programming language. This is one of the tool where more you know will make your job easier and there is always google :-). We will provide a tutorial soon...)\n",
    "    - [x] Basic knowledge statistical data visualization tool, such as matplotlib, seaborn, bokeh, or plotly (These are data visualization tool for the Python programming language. These are a set of the tool where more you know will make your job easier and there is always google :-). We will provide a tutorial soon...)\n",
    "    - [x] Historical data with same frequency (e.g., hourly, daily, weekly, monthly, quarterly, yearly, etc.), to create a forecast. This is important since you cannot create a forecast without historical data that does not have same frequency. If your data does not follow same frequency, then aggregate your data so it will be same frequency. For example, if your data consists of any random two days per week then aggregate (i.e., sum up those two days) your data into a weekly data then create a forecast using aggregated data."
   ]
  },
  {
   "cell_type": "markdown",
   "metadata": {},
   "source": [
    "### 3. Steps"
   ]
  },
  {
   "cell_type": "markdown",
   "metadata": {},
   "source": [
    "Please follow the step by step instructions, which is divided into 9 major steps as shown below:\n",
    "* Get Data\n",
    "* Format Data\n",
    "* Import Data\n",
    "* Cleanse Data \n",
    "* Analyze Data\n",
    "* Prep Data\n",
    "* Create Forecast\n",
    "* Validate Forecast\n",
    "* Maintain Forecast"
   ]
  },
  {
   "cell_type": "markdown",
   "metadata": {},
   "source": [
    "#### 3.1. Get Data"
   ]
  },
  {
   "cell_type": "markdown",
   "metadata": {},
   "source": [
    "United Stated Census Bureau maintains Monthly Retail Trade Report, from January 1992 to Present. This data was picked to illustrate forecasting because it has extensive historical data with same monthly frequency. Data is available as Excel spreadsheet format at https://www.census.gov/retail/mrts/www/mrtssales92-present.xls or you can get the file here =>  [mrtssales92-present.xls](data/mrtssales92-present.xls)"
   ]
  },
  {
   "cell_type": "markdown",
   "metadata": {},
   "source": [
    "3.1.1. Click on the link to save Excel spreadsheet to your local directory/folder."
   ]
  },
  {
   "cell_type": "markdown",
   "metadata": {},
   "source": [
    "3.1.2. Open the Excel spreadsheet (i.e., Monthly Trade Report)."
   ]
  },
  {
   "cell_type": "markdown",
   "metadata": {},
   "source": [
    "3.1.3. Monthly Retail Trade Report is organized by year where each year from 1992 to 2018 are separated by worksheet. Within each worksheet, there are two different types of figures - not adjusted and adjusted. For each type, there is summary set of figures followed by more detailed figure, organized by NAICS Code (i.e., North American Industry Classification System - the standard used by Federal statistical agencies in classifying business establishments for the purpose of collecting, analyzing, and publishing statistical data related to the U.S. business economy.) as shown below."
   ]
  },
  {
   "cell_type": "markdown",
   "metadata": {},
   "source": [
    "![Monthly Retail Trade Report](images/image01.jpg)"
   ]
  },
  {
   "cell_type": "markdown",
   "metadata": {},
   "source": [
    "#### 3.2. Format Data"
   ]
  },
  {
   "cell_type": "markdown",
   "metadata": {},
   "source": [
    "We will need to format the data in Monthly Trade Report, so we can create a forecast from consolidated multiple years of data. At the same time, this data is bit more extensive then we would like, so we will be filtering data as follow:\n",
    "* Use January 2005 to Present time to ensure cyclic behavior (full economic cycle with boom and recession) is represented in our data\n",
    "* Use \"NOT ADJUSTED\" data as illustrated on cell line 7 to line 12 on the spreadsheet.  Other data is nice, but it is bit much for our needs"
   ]
  },
  {
   "cell_type": "markdown",
   "metadata": {},
   "source": [
    "3.2.1. Insert a new worksheet, entitled \"Forecast\"."
   ]
  },
  {
   "cell_type": "markdown",
   "metadata": {},
   "source": [
    "3.2.2. Copy and paste data from 2005 worksheet into \"Forecast\" worksheet.  When pasting data, use \"Transpose\" option on Paste.  It is easier to scroll up and down then scroll sideway to see the data."
   ]
  },
  {
   "cell_type": "markdown",
   "metadata": {},
   "source": [
    "3.2.3. Repeat the step 3.2.2 for 2006 thru 2018."
   ]
  },
  {
   "cell_type": "markdown",
   "metadata": {},
   "source": [
    "3.2.4. Copy and paste column label at top of pasted data.  Again when pasting data, use \"Transpose\" option on paste."
   ]
  },
  {
   "cell_type": "markdown",
   "metadata": {},
   "source": [
    "3.2.5. Insert date column at left of pasted data, start with 01/01/2005 on first row then 02/01/2005 on second row then fill the rows with date.  The end date should be 10/01/2018 as shown below:"
   ]
  },
  {
   "cell_type": "markdown",
   "metadata": {},
   "source": [
    "![Formatted Monthly Trade Report](images/image02.jpg)"
   ]
  },
  {
   "cell_type": "markdown",
   "metadata": {},
   "source": [
    "3.2.6. Save the spreadsheet as mrtssales92-present_step2.xlsx."
   ]
  },
  {
   "cell_type": "markdown",
   "metadata": {},
   "source": [
    "&nbsp;&nbsp;&nbsp;Modified spreadsheet with new \"Forecast\" worksheet is available here => [mrtssales92-present_step2.xlsx](data/mrtssales92-present_step2.xlsx)"
   ]
  },
  {
   "cell_type": "markdown",
   "metadata": {},
   "source": [
    "#### 3.3. Import Data"
   ]
  }
 ],
 "metadata": {
  "kernelspec": {
   "display_name": "Python 3",
   "language": "python",
   "name": "python3"
  },
  "language_info": {
   "codemirror_mode": {
    "name": "ipython",
    "version": 3
   },
   "file_extension": ".py",
   "mimetype": "text/x-python",
   "name": "python",
   "nbconvert_exporter": "python",
   "pygments_lexer": "ipython3",
   "version": "3.7.1"
  }
 },
 "nbformat": 4,
 "nbformat_minor": 2
}
