{
 "cells": [
  {
   "cell_type": "markdown",
   "metadata": {},
   "source": [
    "# Data Science for Business Users "
   ]
  },
  {
   "cell_type": "markdown",
   "metadata": {},
   "source": [
    "## Forecasting Part 1 - Create Forecast using Excel 2016/2019"
   ]
  },
  {
   "cell_type": "markdown",
   "metadata": {},
   "source": [
    "##### &emsp;Author:&emsp;&emsp;Mediumworx Analytics\n",
    "##### &emsp;Date:&emsp;&emsp;&emsp;January 15, 2019\n",
    "##### &emsp;Version:&emsp;&emsp;0.2\n",
    "##### &emsp;Revisions:&emsp;\n",
    "* 0.1. Initial version\n",
    "* 0.2. Added Forecast section"
   ]
  },
  {
   "cell_type": "markdown",
   "metadata": {},
   "source": [
    "_This tutorial was created to democratize data science for business users (i.e., minimize usage of advanced mathematics topics) and alleviate personal frustration we have experienced on following tutorials and struggling to apply that same tutorial for our needs. To democratize data science tasks and allevaiate frustration with existing tutorials on the web. Our mission is as follows:_\n",
    "* _Provide practical application of data science tasks with minimal usage of advanced mathematical topics_\n",
    "* _Only use a full set of data, which are similiar to data we see in business environment and that are publicly available in a tutorial, instead of using simple data or snippets of data used by many tutorials_\n",
    "* _Clearly state the prerequisites at beginning of the tutorial.  We will try to provide additional information on those prerequisites_\n",
    "* _Provide both written tutorial and video tutorial on each topic to ensure all steps are easy to follow and clearly illustrated_"
   ]
  },
  {
   "cell_type": "markdown",
   "metadata": {},
   "source": [
    "### 1. Description"
   ]
  },
  {
   "cell_type": "markdown",
   "metadata": {},
   "source": [
    "This is part one of three part series on how to create a forecast, using one of the most widely used data science tool - Excel. If you are suprised by this statement then we refer you to www.kdnuggets.com (one of the most widely followed blog for data science).  They conduct annual poll on tools and according to the poll, Excel is one of the most widely used tool by data scientists (https://www.kdnuggets.com/2018/05/poll-tools-analytics-data-science-machine-learning-results.html). If you have a question about using Excel, just ask any data scientist in your organization. They are most likely to be Excel expert and they will probably be able to assist you.\n",
    "\n",
    "Forecasting is the process of making predictions of the future based on past and present data and most commonly by analysis of trends.  The accuracy of forecast decreases as you stretch out your forecast. For example, if you are forecasting monthly sales then accuracy of forecast for month 1 sales of forecast will be higher than month 2 sales of forecast and so on. One of my co-worker likes to state that best way to predict tomorrow's weather is to assume it is similiar to today's weather. Everything else is just a guess."
   ]
  },
  {
   "cell_type": "markdown",
   "metadata": {},
   "source": [
    "### 2. Prerequisites"
   ]
  },
  {
   "cell_type": "markdown",
   "metadata": {},
   "source": [
    "Following are prerequisites for this tutorial:\n",
    "    - [x] Excel 2016/2019\n",
    "    - [x] Basic knowledge of Excel 2016/2019\n",
    "    - [x] Historical data with same frequency (e.g., hourly, daily, weekly, monthly, quarterly, yearly, etc.) to create a forecast. This is important since you cannot create a forecast without historical data that does not have same frequency. If your data does not follow same frequency then aggregrate your data so it will be same frequency. For example, if your data consists of any random two days per week then aggregrate (i.e., sum up those two days) your data into a weekly data then create a forecast using aggregrated data."
   ]
  },
  {
   "cell_type": "markdown",
   "metadata": {},
   "source": [
    "### 3. Steps"
   ]
  },
  {
   "cell_type": "markdown",
   "metadata": {},
   "source": [
    "Please follow the step by step instructions, which is divided into 7 major steps as shown below:\n",
    "* Get Data\n",
    "* Format Data\n",
    "* Cleanse Data\n",
    "* Analyze Data\n",
    "* Prep Data\n",
    "* Create Forecast\n",
    "* Validate Forecast"
   ]
  },
  {
   "cell_type": "markdown",
   "metadata": {},
   "source": [
    "#### 3.1. Get Data"
   ]
  },
  {
   "cell_type": "markdown",
   "metadata": {},
   "source": [
    "United Stated Census Bureau maintains Monthly Retail Trade Report, from January 1992 to Present. This data was picked to illustate forecasting because it has extensive historical data with same monthly frequency. Data is available as Excel spreadsheet format at https://www.census.gov/retail/mrts/www/mrtssales92-present.xls or you can get the file here =>  [mrtssales92-present.xls](data/mrtssales92-present.xls)"
   ]
  },
  {
   "cell_type": "markdown",
   "metadata": {},
   "source": [
    "3.1.1. Click on the link to save Excel spreadsheet to your local directory/folder."
   ]
  },
  {
   "cell_type": "markdown",
   "metadata": {},
   "source": [
    "3.1.2. Open the Excel spreadsheet (i.e., Monthly Trade Report)."
   ]
  },
  {
   "cell_type": "markdown",
   "metadata": {},
   "source": [
    "3.1.3. Monthly Retail Trade Report is organized by year where each year from 1992 to 2018 are separated by worksheet. Within each worksheet, there are two different types of figures - not adjusted and adjusted. For each type, there is summary set of figures followed by more detailed figure, organized by NAICS Code (i.e., North American Industry Classification System - the standard used by Federal statistical agencies in classifying business establishments for the purpose of collecting, analyzing, and publishing statistical data related to the U.S. business economy.) as shown below."
   ]
  },
  {
   "cell_type": "markdown",
   "metadata": {},
   "source": [
    "![Monthly Trade Report](images/image01.jpg)"
   ]
  },
  {
   "cell_type": "markdown",
   "metadata": {},
   "source": [
    "#### 3.2. Format Data"
   ]
  },
  {
   "cell_type": "markdown",
   "metadata": {},
   "source": [
    "We will need to format the data in Monthly Trade Report, so we can create a forecast from consolidated multiple years of data. At the same time, this data is bit more extensive then we would like, so we will be filtering data as follow:\n",
    "* Use January 2005 to Present time to ensure cyclic behaviour (full economic cycle with boom and recession) is represented in our data\n",
    "* Use \"NOT ADJUSTED\" data as illustared on cell line 7 to line 12 on the spreadsheet.  Other data is nice, but it is bit much for our needs"
   ]
  },
  {
   "cell_type": "markdown",
   "metadata": {},
   "source": [
    "3.2.1. Insert a new worksheet, entitled \"Forecast\"."
   ]
  },
  {
   "cell_type": "markdown",
   "metadata": {},
   "source": [
    "3.2.2. Copy and paste data from 2005 worksheet into \"Forecast\" worksheet.  When pasting data, use \"Tranpose\" option on Paste.  It is easier to scroll up and down then scroll sideway to see the data."
   ]
  },
  {
   "cell_type": "markdown",
   "metadata": {},
   "source": [
    "3.2.3. Repeat the step 3.2.2 for 2006 thru 2018."
   ]
  },
  {
   "cell_type": "markdown",
   "metadata": {},
   "source": [
    "3.2.4. Copy and paste column label at top of pasted data.  Again when pasting data, use \"Transpose\" option on paste."
   ]
  },
  {
   "cell_type": "markdown",
   "metadata": {},
   "source": [
    "3.2.5. Insert date column at left of pasted data, start with 01/01/2005 on first row then 02/01/2005 on second row then fill the rows with date.  The end date should be 10/01/2018 as shown below:"
   ]
  },
  {
   "cell_type": "markdown",
   "metadata": {},
   "source": [
    "![Formatted Monthly Trade Report](images/image02.jpg)"
   ]
  },
  {
   "cell_type": "markdown",
   "metadata": {},
   "source": [
    "3.2.6. Save the spreadsheet as mrtssales92-present_step2.xlsx."
   ]
  },
  {
   "cell_type": "markdown",
   "metadata": {},
   "source": [
    "&nbsp;&nbsp;&nbsp;Modified spreadsheet with new \"Forecast\" worksheet is available here => [mrtssales92-present_step2.xlsx](data/mrtssales92-present_step2.xlsx)"
   ]
  },
  {
   "cell_type": "markdown",
   "metadata": {},
   "source": [
    "#### 3.3. Cleanse Data"
   ]
  },
  {
   "cell_type": "markdown",
   "metadata": {},
   "source": [
    "After data has been formatted, we will need to cleanse data. There is a truism in saying that Garbage in Garbage out. Simple thing like if all numbers are stored as number needs to be checked. "
   ]
  },
  {
   "cell_type": "markdown",
   "metadata": {},
   "source": [
    "3.3.1.  Cleanse Data.  Ensure all numbers are stored as number, not text.  Same applies to both date and text.  In addition, ensure all numbers, dates and text are consistent. For example, the number is not stored as number, but as text - for example 121K instead of 121,000.  You will need to cleanse the data to ensure all numbers are stored as number. Formatted Monthly Trade Report does not seem to have any dirty data so this step is not need."
   ]
  },
  {
   "cell_type": "markdown",
   "metadata": {},
   "source": [
    "#### 3.4.  Analyze Data"
   ]
  },
  {
   "cell_type": "markdown",
   "metadata": {},
   "source": [
    "After data has been formatted, we will be analyzing data to look for some specific items.  Those items are:\n",
    "* Missing Data. It would be nice to have all data filled-in, but in real-life that is not always the case.  We will need to identify all missing data and denote as such.\n",
    "* Outliers. Outliers happens.  It would be nice to include them, but it will skew our forecast without additional benefits.  We will need to identify all outliers and denote as such.\n",
    "* Seasonality.  It is a characteristic of data in which data experiences regular and predictiable changes which occur every year.  This is important since if the historical data has seasonality then our forecast also needs to reflect this seasonality.\n",
    "* Cyclic Behaviour.  It takes place when there are regular fluctuations in the data which usually last for an interval of at least two years, such as economic recession or economic boom. "
   ]
  },
  {
   "cell_type": "markdown",
   "metadata": {},
   "source": [
    "3.4.1. Missing Data. Formatted Monthly Trade Report seems to be fully populated, so this step is not need."
   ]
  },
  {
   "cell_type": "markdown",
   "metadata": {},
   "source": [
    "3.4.2. Outliers. Simplest way to detect outliers is to create a line chart of the data as shown below since the data points are limited in scope. Formatted Monthly Trade Report seems to be consistent from year to year, so this step is not need."
   ]
  },
  {
   "cell_type": "markdown",
   "metadata": {},
   "source": [
    "3.4.2.1. Open Excel spreadsheet, entitled \"mrtssales92-present_step2.xlsx\" and rename the file to \"mrtssales92-present_step4.xlsx\". Step 3 was skipped since we did not make any changes in step 3."
   ]
  },
  {
   "cell_type": "markdown",
   "metadata": {},
   "source": [
    "3.4.2.2. To create a line chart as shown below, select all data or cell range A1:G167 then select Insert | Insert Line Chart or Area Chart."
   ]
  },
  {
   "cell_type": "markdown",
   "metadata": {},
   "source": [
    "3.4.2.3. Create a new worksheet, entitled \"Analysis\"."
   ]
  },
  {
   "cell_type": "markdown",
   "metadata": {},
   "source": [
    "3.4.2.4. Cut and paste newly created line chart to \"Analysis\" worksheet."
   ]
  },
  {
   "cell_type": "markdown",
   "metadata": {},
   "source": [
    "![Formatted Monthly Trade Report Chart](images/image03.jpg)"
   ]
  },
  {
   "cell_type": "markdown",
   "metadata": {},
   "source": [
    "3.4.3. Seasonality. Simplest way to detect seasonality is to create a line chart for each of labeled data as shown below since the data points are limited in scope. "
   ]
  },
  {
   "cell_type": "markdown",
   "metadata": {},
   "source": [
    "3.4.3.1. Retail and food services sales, total's seasonality seems be consistent from year to year where sales peak at December followed by sales dip in January/February.  Other months' sales do flucuate, but seems to be consistent month to month. Our forecast need to reflect this seasonality. Copy and paste Monthly Retail Trade Report modify the line chart by deleting all other lines except for Retail and food services sales, total as shown below."
   ]
  },
  {
   "cell_type": "markdown",
   "metadata": {},
   "source": [
    "![Retail and food services sales, total Chart](images/image04.jpg)"
   ]
  },
  {
   "cell_type": "markdown",
   "metadata": {},
   "source": [
    "3.4.3.2. Retail and food services excl gasoline stations's seasonality seems be consistent from year to year where sales peak at December followed by sales dip in January/February.  Other months' sales do flucuate, but seems to be consistent month to month. Our forecast need to reflect this seasonality. Copy and paste Monthly Retail Trade Report modify the line chart by deleting all other lines except for Retail and food services excl gasoline stations as shown below."
   ]
  },
  {
   "cell_type": "markdown",
   "metadata": {},
   "source": [
    "![Retail sales and food services excl gasoline stations Chart](images/image05.jpg)"
   ]
  },
  {
   "cell_type": "markdown",
   "metadata": {},
   "source": [
    "3.4.3.3. Retail sales, total's seasonality seems be consistent from year to year where sales peak at December followed by sales dip in January/February. Other months' sales do flucuate, but seems to be consistent month to month. Our forecast need to reflect this seasonality. Copy and paste Monthly Retail Trade Report modify the line chart by deleting all other lines except for Retail sales as shown below."
   ]
  },
  {
   "cell_type": "markdown",
   "metadata": {},
   "source": [
    "![Retail sales, total Chart](images/image06.jpg)"
   ]
  },
  {
   "cell_type": "markdown",
   "metadata": {},
   "source": [
    "3.4.3.4. Retail sales and food services excl motor vehicle and parts's seasonality seems be consistent from year to year where sales peak at December followed by sales dip in January/February. Other months' sales do flucuate, but seems to be consistent month to month. Our forecast need to reflect this seasonality. Copy and paste Monthly Retail Trade Report modify the line chart by deleting all other lines except for Retail sales and food services excl motor vehicle and parts as shown below."
   ]
  },
  {
   "cell_type": "markdown",
   "metadata": {},
   "source": [
    "![Retail sales and food services excl motor vehicle and parts Chart](images/image07.jpg)"
   ]
  },
  {
   "cell_type": "markdown",
   "metadata": {},
   "source": [
    "3.4.3.5. Retail sales and food services excl motor vehicle and parts and gasoline stations's seasonality seems be consistent from year to year where sales peak at December followed by sales dip in January/February. Other months' sales do flucuate, but seems to be consistent month to month. Our forecast need to reflect this seasonality. Copy and paste Monthly Retail Trade Report modify the line chart by deleting all other lines except for Retail sales and food services excl motor vehicle and parts and gasoline stations as shown below."
   ]
  },
  {
   "cell_type": "markdown",
   "metadata": {},
   "source": [
    "![Retail sales and food services excl motor vehicle and parts and gasoline stations](images/image08.jpg)"
   ]
  },
  {
   "cell_type": "markdown",
   "metadata": {},
   "source": [
    "3.4.3.6. Retail sales, total (excl. motor vehicle and parts dealers)'s seasonality seems be consistent from year to year where sales peak at December followed by sales dip in January/February. Other months' sales do flucuate, but seems to be consistent month to month. Our forecast need to reflect this seasonality. Copy and paste Monthly Retail Trade Report modify the line chart by deleting all other lines except for Retail sales, total (excl. motor vehicle and parts dealers) as shown below."
   ]
  },
  {
   "cell_type": "markdown",
   "metadata": {},
   "source": [
    "![Retail sales, total (excl. motor vehicle and parts dealers)](images/image09.jpg)"
   ]
  },
  {
   "cell_type": "markdown",
   "metadata": {},
   "source": [
    "3.4.4. Cyclic Behaviour. Simplest way to detect if the data reflects cyclic behaviour is to create a line chart for each of labeled data as shown above since the data points are limited in scope. As you can see from above charts, the data reflects cyclic behaviour where there was economic boom between 2005 thru 2006, followed by economic recession between 2007 thru 2009, followed by gradual increase in sales figure between 2010 thru 2015 then economic boom from 2016 to present."
   ]
  },
  {
   "cell_type": "markdown",
   "metadata": {},
   "source": [
    "3.4.5. Save the spreadsheet as mrtssales92-present_step4.xlsx."
   ]
  },
  {
   "cell_type": "markdown",
   "metadata": {},
   "source": [
    "&nbsp;&nbsp;&nbsp;Modified spreadsheet with new \"Analysis\" worksheet is available here => [mrtssales92-present_step4.xlsx](data/mrtssales92-present_step4.xlsx)"
   ]
  },
  {
   "cell_type": "markdown",
   "metadata": {},
   "source": [
    "#### 3.5. Prep Data"
   ]
  },
  {
   "cell_type": "markdown",
   "metadata": {},
   "source": [
    "We will need to prep data to ensure we only use clean data to create our forecast.  Some of the basic data prep tasks are:\n",
    "* Remove data outliers. Let say for one month, your sales doubled or tripled due to once in lifetime promotion. This is nice data point to consider, but it will skew our forecast without providing any value. We will need to cap and floor our data to ensure outliers are removed.\n",
    "* Impute missing data. Sometimes, some of the data are just missing for whatever the reason. If the percentage of missing value is low then you can impute that missing data."
   ]
  },
  {
   "cell_type": "markdown",
   "metadata": {},
   "source": [
    "3.5.1. Remove Data Outliers. Eventhough there are no outliers in the data, this is good exercise to remove outliers from data if they are present. There is no hard and fast rule on capping and flooring, but we generally start with 95 percentile for capping and 5 percentile for flooring and adjust them as needed, but for this example we will use 99 percentile for capping and 1 percentile for flooring using Excel's PERCENTILE function. Since there is seasonality in the data, we will need to account for seasonality. So, if we were to really cap and floor this data, we may need to calulate capping threshold and flooring threshold for same months, instead of calculating capping threshold and flooring threshold for all rows. To account for seasonality, calculate capping threshold and flooring threshold for all January then all February and so on."
   ]
  },
  {
   "cell_type": "markdown",
   "metadata": {},
   "source": [
    "3.5.1.1. For one column, change one of the row value to large number (e.g., multiply the value by 5)."
   ]
  },
  {
   "cell_type": "markdown",
   "metadata": {},
   "source": [
    "3.5.1.2. For same column, change one of the row value to small number (e.g., divide the value by 5)."
   ]
  },
  {
   "cell_type": "markdown",
   "metadata": {},
   "source": [
    "3.5.1.3. For each column, calculate capping threshold number using PRECENTILE function - e.g., =PERCENTILE(G2:G167, 0.99). Label this rown as \"Capping\"."
   ]
  },
  {
   "cell_type": "markdown",
   "metadata": {},
   "source": [
    "3.5.1.4. Use the capping value to replace the large number we have changed on step 3.5.1.1."
   ]
  },
  {
   "cell_type": "markdown",
   "metadata": {},
   "source": [
    "3.5.1.5. For each column, calculate flooring threshold number using PRECENTILE function - e.g., =PERCENTILE(G2:G167, 0.01). Label this rown as \"Flooring\"."
   ]
  },
  {
   "cell_type": "markdown",
   "metadata": {},
   "source": [
    "3.5.1.6. Use the flooring value to replace the small number we have changed on step 3.5.1.2."
   ]
  },
  {
   "cell_type": "markdown",
   "metadata": {},
   "source": [
    "3.5.2. Impute Missing Data (i.e., Missing Imputation).  Eventhough there are no missing data, this is good exercise to impute missing data if there are missing data. For simplicity purposes, we will impute missing data using Excel's AVERAGE function to fill-in missing value. Since there is seasonality in the data, we will need to account for seasonality. So, if we were to really impute missing value then we may need to calculate missing value for same months, instead of calculating missing value for all rows. To account for seasonality, we will need to calculate missing value for all January then all February and so on. There are two other methods of imputing missing value, but that will be covered in advanced topics."
   ]
  },
  {
   "cell_type": "markdown",
   "metadata": {},
   "source": [
    "3.5.2.1. For one column, delete one of the row value."
   ]
  },
  {
   "cell_type": "markdown",
   "metadata": {},
   "source": [
    "3.5.2.2. For each column, calculate missing value imputation number using AVERAGE function - e.g., =AVERAGE(G2:G167). Label this rown as \"Missing Imputation\"."
   ]
  },
  {
   "cell_type": "markdown",
   "metadata": {},
   "source": [
    "3.5.2.3. Use the missing imputation value to replace the number we have deleted on step 3.5.2.1"
   ]
  },
  {
   "cell_type": "markdown",
   "metadata": {},
   "source": [
    "3.5.3. After data has been prepped, run the Analysis steps again and update documentation as described on step 3.4."
   ]
  },
  {
   "cell_type": "markdown",
   "metadata": {},
   "source": [
    "#### 3.6. Create Forecast"
   ]
  },
  {
   "cell_type": "markdown",
   "metadata": {},
   "source": [
    "We spent a lot of time getting data, formatting data, cleansing data, analyzing data and finally prepping data.  In data science, it is normal to spend between 80 to 90 percent of your time performing above tasks. Actually creating and validating a forecast takes fraction of time of all the data steps."
   ]
  },
  {
   "cell_type": "markdown",
   "metadata": {},
   "source": [
    "3.6.1. First, we will be diving data into two sets of data:\n",
    "* Train Data\n",
    "* Test Data"
   ]
  },
  {
   "cell_type": "markdown",
   "metadata": {},
   "source": [
    "Usually we use 70 Train/30 Test (70/30) or 80 Train/20 Test (80/20) split where train data is used to create a forecast and test data is used to validate the forecast, but for simplification purposes, we will split the data as follows:\n",
    "* Train Data: January 2005 thru December 2016\n",
    "* Test Data: January 2017 thru October 2018"
   ]
  },
  {
   "cell_type": "markdown",
   "metadata": {},
   "source": [
    "3.6.2. After we have determined data split, we will use Excel's FORECAST>ETS function, which calculates or predicts a future value based on existing (historical) values by using the AAA version of the Exponential Smoothing (ETS) algorithm. The predicted value is a continuation of the historical values in the specified target date, which should be a continuation of the timeline."
   ]
  },
  {
   "cell_type": "markdown",
   "metadata": {},
   "source": [
    "3.6.3. Open Excel spreadsheet, entitled \"mrtssales92-present_step4.xlsx\" and rename the file to \"mrtssales92-present_step6.xlsx\".  Step 5 was skipped since we did not make any changes in step 5."
   ]
  },
  {
   "cell_type": "markdown",
   "metadata": {},
   "source": [
    "3.6.4. Navigate to \"Forecast\" worksheet and add new columns:\n",
    "* Column H is used as seprator (I like white spaces)\n",
    "* Retail and food services sales, total (Forecast) on column I\n",
    "* Retail sales and food services excl motor vehicle and parts (Forecast) on column J\n",
    "* Retail sales and food services excl gasoline stations (Forecast) on column K\n",
    "* Retail sales and food services excl motor vehicle and parts and gasoline stations (Forecast) on column L\n",
    "* Retail sales, total (Forecast) on column M\n",
    "* Retail sales, total (excl. motor vehicle and parts dealers) (Forecast) on column N"
   ]
  },
  {
   "cell_type": "markdown",
   "metadata": {},
   "source": [
    "3.6.5. Extend date column to 12/1/2020.  Date column is located on column A."
   ]
  },
  {
   "cell_type": "markdown",
   "metadata": {},
   "source": [
    "3.6.6. Now, let's create a forecast for Retail and food services sales, total (located on cell I146) using Excel's FORECAST.ETS function.  FORECATS.ETS function's syntax is FORECAST.ETS(target_date, values, timeline, [seasonality], [data_completion], [aggregation]) and it has following arguments:\n",
    "* Target_date: Required. Since we are forecasting for January 2017 thru December 2020, this is cell which contains dates or cell A146 for January 2017.\n",
    "* Values: Required. Since we will be Retail and food services sales, total's historical data from January 2005 thru December 2016 to create forecast for Retail and food services sales, total, this will be range of cell or cell range $B$2:$B$145.\n",
    "* Timeline: Required. Since we will be Retail and food services sales, total's historical dates from January 2005 thru December 2016 to create forecast for Retail and food services sales, total, this will be range of cell or cell range $A$2:$A$145.\n",
    "* Seasonality: Optional. Use default value of 1 for Excel to automatically detect seasonality in data.\n",
    "* Data Completion: Optional. Since there is no missing data, we will just use default value of 1.\n",
    "* Aggregration\" Optional. Since our data is monthly data, no aggregration is needed.\n",
    "\n",
    "The completed formula will be =FORECAST.ETS($A146,$B$2:$B$145,$A$2:$A$145,1,1) for cell I146. Fill-in the values below or to cell I193."
   ]
  },
  {
   "cell_type": "markdown",
   "metadata": {},
   "source": [
    "3.6.7. Next, let's create a forecast for Retail sales and food services excl motor vehicle and parts (located on cell J146) using Excel's FORECAST.ETS function.  FORECATS.ETS function's syntax is FORECAST.ETS(target_date, values, timeline, [seasonality], [data_completion], [aggregation]) and it has following arguments:\n",
    "* Target_date: Required. Since we are forecasting for January 2017 thru December 2020, this is cell which contains dates or cell A146 for January 2017.\n",
    "* Values: Required. Since we will be Retail and food services sales, total's historical data from January 2005 thru December 2016 to create forecast for Retail and food services sales, total, this will be range of cell or cell range $C$2:$C$145.\n",
    "* Timeline: Required. Since we will be Retail and food services sales, total's historical dates from January 2005 thru December 2016 to create forecast for Retail and food services sales, total, this will be range of cell or cell range $A$2:$A$145.\n",
    "* Seasonality: Optional. Use default value of 1 for Excel to automatically detect seasonality in data.\n",
    "* Data Completion: Optional. Since there is no missing data, we will just use default value of 1.\n",
    "* Aggregration\" Optional. Since our data is monthly data, no aggregration is needed.\n",
    "\n",
    "The completed formula will be =FORECAST.ETS($A146,$C$2:$C$145,$A$2:$A$145,1,1) for cell J146. Fill-in the values below or to cell J193."
   ]
  },
  {
   "cell_type": "markdown",
   "metadata": {},
   "source": [
    "3.6.8. Next, let's create a forecast for Retail sales and food services excl gasoline stations (Forecast) (located on cell K146) using Excel's FORECAST.ETS function.  FORECATS.ETS function's syntax is FORECAST.ETS(target_date, values, timeline, [seasonality], [data_completion], [aggregation]) and it has following arguments:\n",
    "* Target_date: Required. Since we are forecasting for January 2017 thru December 2020, this is cell which contains dates or cell A146 for January 2017.\n",
    "* Values: Required. Since we will be Retail and food services sales, total's historical data from January 2005 thru December 2016 to create forecast for Retail and food services sales, total, this will be range of cell or cell range $D$2:$D$145.\n",
    "* Timeline: Required. Since we will be Retail and food services sales, total's historical dates from January 2005 thru December 2016 to create forecast for Retail and food services sales, total, this will be range of cell or cell range $A$2:$A$145.\n",
    "* Seasonality: Optional. we tried to use default value of 1 for Excel to automatically detect seasonality in data, but unfortunately Excel did not detect seasonality even though it exists.  We used \"24\" to force Forecast to have similiar seasonality pattern we have withnessed in historical data.\n",
    "* Data Completion: Optional. Since there is no missing data, we will just use default value of 1.\n",
    "* Aggregration\" Optional. Since our data is monthly data, no aggregration is needed.\n",
    "\n",
    "The completed formula will be =FORECAST.ETS($A146,$D$2:$D$145,$A$2:$A$145,1,1) for cell K146. Fill-in the values below or to cell K193."
   ]
  },
  {
   "cell_type": "markdown",
   "metadata": {},
   "source": [
    "3.6.9. Next, let's create a forecast for Retail sales and food services excl motor vehicle and parts and gasoline stations (located on cell L146) using Excel's FORECAST.ETS function.  FORECATS.ETS function's syntax is FORECAST.ETS(target_date, values, timeline, [seasonality], [data_completion], [aggregation]) and it has following arguments:ext\n",
    "* Target_date: Required. Since we are forecasting for January 2017 thru December 2020, this is cell which contains dates or cell A146 for January 2017.\n",
    "* Values: Required. Since we will be Retail and food services sales, total's historical data from January 2005 thru December 2016 to create forecast for Retail and food services sales, total, this will be range of cell or cell range $E$2:$E$145.\n",
    "* Timeline: Required. Since we will be Retail and food services sales, total's historical dates from January 2005 thru December 2016 to create forecast for Retail and food services sales, total, this will be range of cell or cell range $A$2:$A$145.\n",
    "* Seasonality: Optional. Use default value of 1 for Excel to automatically detect seasonality in data.\n",
    "* Data Completion: Optional. Since there is no missing data, we will just use default value of 1.\n",
    "* Aggregration\" Optional. Since our data is monthly data, no aggregration is needed.\n",
    "\n",
    "The completed formula will be =FORECAST.ETS($A146,$E$2:$E$145,$A$2:$A$145,1,1) for cell L146. Fill-in the values below or to cell L193."
   ]
  },
  {
   "cell_type": "markdown",
   "metadata": {},
   "source": [
    "3.6.10. Next, let's create a forecast for Retail sales, total  (located on cell M146) using Excel's FORECAST.ETS function.  FORECATS.ETS function's syntax is FORECAST.ETS(target_date, values, timeline, [seasonality], [data_completion], [aggregation]) and it has following arguments:\n",
    "* Target_date: Required. Since we are forecasting for January 2017 thru December 2020, this is cell which contains dates or cell A146 for January 2017.\n",
    "* Values: Required. Since we will be Retail and food services sales, total's historical data from January 2005 thru December 2016 to create forecast for Retail and food services sales, total, this will be range of cell or cell range $F$2:$F$145.\n",
    "* Timeline: Required. Since we will be Retail and food services sales, total's historical dates from January 2005 thru December 2016 to create forecast for Retail and food services sales, total, this will be range of cell or cell range $A$2:$A$145.\n",
    "* Seasonality: Optional. Use default value of 1 for Excel to automatically detect seasonality in data.\n",
    "* Data Completion: Optional. Since there is no missing data, we will just use default value of 1.\n",
    "* Aggregration\" Optional. Since our data is monthly data, no aggregration is needed.\n",
    "\n",
    "The completed formula will be =FORECAST.ETS($A146,$F$2:$F$145,$A$2:$A$145,1,1) for cell M146. Fill-in the values below or to cell M193."
   ]
  },
  {
   "cell_type": "markdown",
   "metadata": {},
   "source": [
    "3.6.11. Next, let's create a forecast for Retail sales, total (excl. motor vehicle and parts dealers)  (located on cell N146) using Excel's FORECAST.ETS function.  FORECATS.ETS function's syntax is FORECAST.ETS(target_date, values, timeline, [seasonality], [data_completion], [aggregation]) and it has following arguments:\n",
    "* Target_date: Required. Since we are forecasting for January 2017 thru December 2020, this is cell which contains dates or cell A146 for January 2017.\n",
    "* Values: Required. Since we will be Retail and food services sales, total's historical data from January 2005 thru December 2016 to create forecast for Retail and food services sales, total, this will be range of cell or cell range $G$2:$G$145.\n",
    "* Timeline: Required. Since we will be Retail and food services sales, total's historical dates from January 2005 thru December 2016 to create forecast for Retail and food services sales, total, this will be range of cell or cell range $A$2:$A$145.\n",
    "* Seasonality: Optional. Use default value of 1 for Excel to automatically detect seasonality in data.\n",
    "* Data Completion: Optional. Since there is no missing data, we will just use default value of 1.\n",
    "* Aggregration\" Optional. Since our data is monthly data, no aggregration is needed.\n",
    "\n",
    "The completed formula will be =FORECAST.ETS($A146,$G$2:$G$145,$A$2:$A$145,1,1) for cell N146. Fill-in the values below or to cell N193."
   ]
  },
  {
   "cell_type": "markdown",
   "metadata": {},
   "source": [
    "3.6.12. Save the spreadsheet as mrtssales92-present_step6.xlsx."
   ]
  },
  {
   "cell_type": "markdown",
   "metadata": {},
   "source": [
    "&nbsp;&nbsp;&nbsp;Modified spreadsheet with modified \"Forecast\" worksheet is available here => [mrtssales92-present_step6.xlsx](data/mrtssales92-present_step6.xlsx)"
   ]
  },
  {
   "cell_type": "markdown",
   "metadata": {},
   "source": [
    "#### 3.7. Validate Forecast"
   ]
  },
  {
   "cell_type": "code",
   "execution_count": null,
   "metadata": {},
   "outputs": [],
   "source": []
  }
 ],
 "metadata": {
  "kernelspec": {
   "display_name": "Python 3",
   "language": "python",
   "name": "python3"
  },
  "language_info": {
   "codemirror_mode": {
    "name": "ipython",
    "version": 3
   },
   "file_extension": ".py",
   "mimetype": "text/x-python",
   "name": "python",
   "nbconvert_exporter": "python",
   "pygments_lexer": "ipython3",
   "version": "3.7.1"
  }
 },
 "nbformat": 4,
 "nbformat_minor": 2
}
