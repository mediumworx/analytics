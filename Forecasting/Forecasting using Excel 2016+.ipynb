{
 "cells": [
  {
   "cell_type": "markdown",
   "metadata": {},
   "source": [
    "# Data Science for Business Users "
   ]
  },
  {
   "cell_type": "markdown",
   "metadata": {},
   "source": [
    "## Forecasting Part 1 - Create Forecast using Excel 2016/2019"
   ]
  },
  {
   "cell_type": "markdown",
   "metadata": {},
   "source": [
    "##### &emsp;Author:&emsp;&emsp;Mediumworx Analytics\n",
    "##### &emsp;Date:&emsp;&emsp;&emsp;January 15, 2019\n",
    "##### &emsp;Version:&emsp;&emsp;1.0\n",
    "##### &emsp;Revisions:&emsp;1.0. Initial version"
   ]
  },
  {
   "cell_type": "markdown",
   "metadata": {},
   "source": [
    "_This tutorial was created to democratize data science for business users (i.e., minimize usage of advanced mathematics topics) and alleviate personal frustration we have experienced on following tutorials and struggling to apply that same tutorial for our needs. To democratize data science tasks and allevaiate frustration with available tutorials, our mission is as follows:_\n",
    "* _Provide practical application of data science tasks with minimal usage of advanced mathematical topics_\n",
    "* _Only use a full set of data, which are similiar to data we see in business environment and that are publicly available in a tutorial, instead of using simple data or snippets of data used by many tutorials_\n",
    "* _Clearly state the prerequisites at beginning of the tutorial.  We will try to provide additional information on those prerequisites_\n",
    "* _Provide both written tutorial and video tutorial on each topic to ensure all steps are clearly illustrated_\n"
   ]
  },
  {
   "cell_type": "markdown",
   "metadata": {},
   "source": [
    "### 1. Description"
   ]
  },
  {
   "cell_type": "markdown",
   "metadata": {},
   "source": [
    "This is part one of three part series on how to create a forecast, using one of the most widely used data science tool - Excel. If you are suprised by this statement then we refer you to www.kdnuggets.com (one of the most widely followed blog for data science).  They conduct annual poll on tools and according to the poll, Excel is one of the most widely used tool by data scientists (https://www.kdnuggets.com/2018/05/poll-tools-analytics-data-science-machine-learning-results.html). If you have a question about using Excel, just ask any data scientist in your organization. They are most likely to be Excel expert and they will probably will be able to assist you.\n",
    "\n",
    "Forecasting is the process of making predictions of the future based on past and present data and most commonly by analysis of trends.  The accuracy of forecast decreases as you stretch out your forecast. For example, if you are forecasting monthly sales then accuracy of forecast for month 1 sales of forecast will be higher than month 2 sales of forecast and so on. One of my co-worker likes to state that best way to predict tomorrow's weather is to assume it is similiar to today's weather. Everything else is just a guess."
   ]
  },
  {
   "cell_type": "markdown",
   "metadata": {},
   "source": [
    "### 2. Prerequisites"
   ]
  },
  {
   "cell_type": "markdown",
   "metadata": {},
   "source": [
    "Following are prerequisites for this tutorial:\n",
    "    - [x] Excel 2016/2019\n",
    "    - [x] Basic knowledge of Excel 2016/2019\n",
    "    - [x] Historical data with same frequency (e.g., hourly, daily, weekly, monthly, quarterly, yearly, etc.) to create a forecast.  \n",
    "          Note: This is important since you cannot create a forecast without historical data that does not have same frequency. If your data does not follow same frequency then aggregrate your data so it will be same frequency.\n",
    "          For example, if your data consists of any random two days per week then aggregrate (i.e., sum up those two days) your data into a weekly data then create a forecast using aggregrated data."
   ]
  },
  {
   "cell_type": "markdown",
   "metadata": {},
   "source": [
    "### 3. Steps"
   ]
  },
  {
   "cell_type": "markdown",
   "metadata": {},
   "source": [
    "Please follow the step by step instructions:"
   ]
  },
  {
   "cell_type": "markdown",
   "metadata": {},
   "source": [
    "#### 3.1. Get Data"
   ]
  },
  {
   "cell_type": "markdown",
   "metadata": {},
   "source": [
    "United Stated Census Bureau maintains Monthly Retail Trade Report, from January 1992 to Present. This data was picked to illustate forecasting because it has extensive historical data with same monthly frequency. The data is available as Excel spreadsheet format at https://www.census.gov/retail/mrts/www/mrtssales92-present.xls"
   ]
  },
  {
   "cell_type": "markdown",
   "metadata": {},
   "source": [
    "3.1.1. Click on the link to save Excel spreadsheet to your local directory/folder."
   ]
  },
  {
   "cell_type": "markdown",
   "metadata": {},
   "source": [
    "#### 3.2. Format Data"
   ]
  },
  {
   "cell_type": "markdown",
   "metadata": {},
   "source": [
    "We cannot create a forecast using Monthly Retail Trade Report without manipulating data to fit the forecasting needs.  At the same time, this data is bit more extensive then we like, so we will be filtering data as follow:\n",
    "* Use January 2005 to Present time to ensure full econmic cycle is represented in our forecast\n",
    "* Use \"NOT ADJUSTED\" data as illustared on cell line 7 to line 12 on the spreadsheet.  Other data is nice, but it is bit much for our needs."
   ]
  },
  {
   "cell_type": "markdown",
   "metadata": {},
   "source": [
    "3.2.1. Insert a new worksheet, entitled \"Forecast\"."
   ]
  },
  {
   "cell_type": "markdown",
   "metadata": {},
   "source": [
    "3.2.2. Copy and paste data from 2005 worksheet into \"Forecast\" worksheet.  When pasting data, use \"Tranpose\" option on Paste.  It is easier to scroll up and down then scroll sideway to see the data."
   ]
  },
  {
   "cell_type": "markdown",
   "metadata": {},
   "source": [
    "3.2.3. Repeat the step 3.2.2 for 2006 thru 2018."
   ]
  },
  {
   "cell_type": "markdown",
   "metadata": {},
   "source": [
    "3.2.4. Add column at top of pasted data."
   ]
  },
  {
   "cell_type": "markdown",
   "metadata": {},
   "source": [
    "3.2.5. Insert date column at left of pasted data."
   ]
  },
  {
   "cell_type": "markdown",
   "metadata": {},
   "source": [
    "Modified spreadsheet with new \"Forecast\" worksheet is available here =>"
   ]
  },
  {
   "cell_type": "markdown",
   "metadata": {},
   "source": [
    "#### 3.3. Prep Data"
   ]
  },
  {
   "cell_type": "markdown",
   "metadata": {},
   "source": [
    "We will need to prep data to ensure we only use clean data to create our forecast.  Some of the basic data prep tasks are:\n",
    "* Cleanse data. Sometimes, the number is not stored as number, but as text - for example 121K instead of 121,000.  You will cleanse the data to ensure all numbers are stored as number.\n",
    "* Remove data outliers. Let say for one month, your sales doubled or tripled due to once in lifetime promotion. This is nice data point to consider, but it will skew our forecast without providing any value. We will need to cap and floor our data to ensure outliers are removed.\n",
    "* Impute missing data. Sometimes, some of the data are just missing for whatever the reason. If the percentage of missing value is low then you can impute that missing data."
   ]
  },
  {
   "cell_type": "markdown",
   "metadata": {},
   "source": [
    "3.3.1.  Cleanse Data.  Ensure all numbers are stored as number, not text.  Same applies to both date and text.  In addition, ensure all numbers, dates and text are consistent."
   ]
  },
  {
   "cell_type": "markdown",
   "metadata": {},
   "source": [
    "3.3.2. Remove Data Outliers.  "
   ]
  },
  {
   "cell_type": "markdown",
   "metadata": {},
   "source": [
    "3.3.3. Impute Missing Data (i.e., Missing Imputation)"
   ]
  },
  {
   "cell_type": "markdown",
   "metadata": {},
   "source": [
    "#### 3.4.  Analyze Data"
   ]
  },
  {
   "cell_type": "code",
   "execution_count": null,
   "metadata": {},
   "outputs": [],
   "source": []
  },
  {
   "cell_type": "markdown",
   "metadata": {},
   "source": [
    "#### 3.5. Create Forecast"
   ]
  },
  {
   "cell_type": "markdown",
   "metadata": {},
   "source": [
    "We spent a lot of time getting data, formatting data, prepping data and analyzing data.  In data science, it is normal to spend between 80 to 90 percent of your time performing above tasks."
   ]
  },
  {
   "cell_type": "code",
   "execution_count": null,
   "metadata": {},
   "outputs": [],
   "source": []
  }
 ],
 "metadata": {
  "kernelspec": {
   "display_name": "Python 3",
   "language": "python",
   "name": "python3"
  },
  "language_info": {
   "codemirror_mode": {
    "name": "ipython",
    "version": 3
   },
   "file_extension": ".py",
   "mimetype": "text/x-python",
   "name": "python",
   "nbconvert_exporter": "python",
   "pygments_lexer": "ipython3",
   "version": "3.7.1"
  }
 },
 "nbformat": 4,
 "nbformat_minor": 2
}
